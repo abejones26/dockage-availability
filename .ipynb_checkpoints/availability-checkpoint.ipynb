{
 "cells": [
  {
   "cell_type": "code",
   "execution_count": 6,
   "metadata": {},
   "outputs": [],
   "source": [
    "import os\n",
    "import pandas as pd\n",
    "from datetime import datetime as dt\n",
    "import time\n",
    "import plotly.express as px\n",
    "import mysql.connector\n",
    "from mysql.connector import Error\n",
    "import numpy as np\n",
    "import config"
   ]
  },
  {
   "cell_type": "markdown",
   "metadata": {},
   "source": [
    "# Connecting to Wordpress Database"
   ]
  },
  {
   "cell_type": "code",
   "execution_count": 7,
   "metadata": {},
   "outputs": [],
   "source": [
    "host = config.host\n",
    "database = config.database\n",
    "user = config.user\n",
    "password = config.password\n",
    "\n",
    "conn = mysql.connector.connect(host = host, database = database, user = user, password = password)"
   ]
  },
  {
   "cell_type": "markdown",
   "metadata": {},
   "source": [
    "# Wordpress wp_jet_appointment table"
   ]
  },
  {
   "cell_type": "markdown",
   "metadata": {},
   "source": [
    "#### SQL query set to appointments"
   ]
  },
  {
   "cell_type": "code",
   "execution_count": 8,
   "metadata": {},
   "outputs": [],
   "source": [
    "appointments = \"SELECT user_id, status, service, provider, user_email, date, slot, slot_end \\\n",
    "                FROM wp_jet_appointments \\\n",
    "                ORDER BY slot asc\""
   ]
  },
  {
   "cell_type": "markdown",
   "metadata": {},
   "source": [
    "#### Reading sql query and saving to csv"
   ]
  },
  {
   "cell_type": "code",
   "execution_count": 9,
   "metadata": {},
   "outputs": [],
   "source": [
    "ap_data = pd.read_sql_query(appointments, conn)\n",
    "ap_data.to_csv(\"assets/data/wp_jet_appointments.csv\", index=False)"
   ]
  },
  {
   "cell_type": "markdown",
   "metadata": {},
   "source": [
    "#### Loading Appointment Data from csv"
   ]
  },
  {
   "cell_type": "code",
   "execution_count": 10,
   "metadata": {},
   "outputs": [
    {
     "data": {
      "text/html": [
       "<div>\n",
       "<style scoped>\n",
       "    .dataframe tbody tr th:only-of-type {\n",
       "        vertical-align: middle;\n",
       "    }\n",
       "\n",
       "    .dataframe tbody tr th {\n",
       "        vertical-align: top;\n",
       "    }\n",
       "\n",
       "    .dataframe thead th {\n",
       "        text-align: right;\n",
       "    }\n",
       "</style>\n",
       "<table border=\"1\" class=\"dataframe\">\n",
       "  <thead>\n",
       "    <tr style=\"text-align: right;\">\n",
       "      <th></th>\n",
       "      <th>user_id</th>\n",
       "      <th>status</th>\n",
       "      <th>service</th>\n",
       "      <th>provider</th>\n",
       "      <th>user_email</th>\n",
       "      <th>date</th>\n",
       "      <th>slot</th>\n",
       "      <th>slot_end</th>\n",
       "    </tr>\n",
       "  </thead>\n",
       "  <tbody>\n",
       "    <tr>\n",
       "      <td>0</td>\n",
       "      <td>NaN</td>\n",
       "      <td>pending</td>\n",
       "      <td>404</td>\n",
       "      <td>415</td>\n",
       "      <td>abrahammrjones@gmail.com</td>\n",
       "      <td>1591833600</td>\n",
       "      <td>1591876800</td>\n",
       "      <td>1591880400</td>\n",
       "    </tr>\n",
       "    <tr>\n",
       "      <td>1</td>\n",
       "      <td>10.0</td>\n",
       "      <td>pending</td>\n",
       "      <td>456</td>\n",
       "      <td>417</td>\n",
       "      <td>abrahammrjones@gmail.com</td>\n",
       "      <td>1591833600</td>\n",
       "      <td>1591880400</td>\n",
       "      <td>1591891200</td>\n",
       "    </tr>\n",
       "    <tr>\n",
       "      <td>2</td>\n",
       "      <td>10.0</td>\n",
       "      <td>pending</td>\n",
       "      <td>460</td>\n",
       "      <td>415</td>\n",
       "      <td>abrahammrjones@gmail.com</td>\n",
       "      <td>1591833600</td>\n",
       "      <td>1591880400</td>\n",
       "      <td>1591884000</td>\n",
       "    </tr>\n",
       "    <tr>\n",
       "      <td>3</td>\n",
       "      <td>10.0</td>\n",
       "      <td>pending</td>\n",
       "      <td>458</td>\n",
       "      <td>415</td>\n",
       "      <td>abrahammrjones@gmail.com</td>\n",
       "      <td>1591833600</td>\n",
       "      <td>1591884000</td>\n",
       "      <td>1591891200</td>\n",
       "    </tr>\n",
       "    <tr>\n",
       "      <td>4</td>\n",
       "      <td>10.0</td>\n",
       "      <td>pending</td>\n",
       "      <td>448</td>\n",
       "      <td>415</td>\n",
       "      <td>abrahammrjones@gmail.com</td>\n",
       "      <td>1591833600</td>\n",
       "      <td>1591884000</td>\n",
       "      <td>1591887600</td>\n",
       "    </tr>\n",
       "    <tr>\n",
       "      <td>5</td>\n",
       "      <td>10.0</td>\n",
       "      <td>pending</td>\n",
       "      <td>442</td>\n",
       "      <td>415</td>\n",
       "      <td>abrahammrjones@gmail.com</td>\n",
       "      <td>1591833600</td>\n",
       "      <td>1591902000</td>\n",
       "      <td>1591905600</td>\n",
       "    </tr>\n",
       "  </tbody>\n",
       "</table>\n",
       "</div>"
      ],
      "text/plain": [
       "   user_id   status  service  provider                user_email        date  \\\n",
       "0      NaN  pending      404       415  abrahammrjones@gmail.com  1591833600   \n",
       "1     10.0  pending      456       417  abrahammrjones@gmail.com  1591833600   \n",
       "2     10.0  pending      460       415  abrahammrjones@gmail.com  1591833600   \n",
       "3     10.0  pending      458       415  abrahammrjones@gmail.com  1591833600   \n",
       "4     10.0  pending      448       415  abrahammrjones@gmail.com  1591833600   \n",
       "5     10.0  pending      442       415  abrahammrjones@gmail.com  1591833600   \n",
       "\n",
       "         slot    slot_end  \n",
       "0  1591876800  1591880400  \n",
       "1  1591880400  1591891200  \n",
       "2  1591880400  1591884000  \n",
       "3  1591884000  1591891200  \n",
       "4  1591884000  1591887600  \n",
       "5  1591902000  1591905600  "
      ]
     },
     "execution_count": 10,
     "metadata": {},
     "output_type": "execute_result"
    }
   ],
   "source": [
    "ap = pd.read_csv(\"assets/data/wp_jet_appointments.csv\")\n",
    "ap"
   ]
  },
  {
   "cell_type": "markdown",
   "metadata": {},
   "source": [
    "#### Calculating duration times"
   ]
  },
  {
   "cell_type": "code",
   "execution_count": 11,
   "metadata": {},
   "outputs": [],
   "source": [
    "duration = pd.to_datetime((ap.slot_end - ap.slot), unit='s').dt.time"
   ]
  },
  {
   "cell_type": "markdown",
   "metadata": {},
   "source": [
    "#### Adding duration column to appointment dataframe"
   ]
  },
  {
   "cell_type": "code",
   "execution_count": 12,
   "metadata": {},
   "outputs": [
    {
     "data": {
      "text/html": [
       "<div>\n",
       "<style scoped>\n",
       "    .dataframe tbody tr th:only-of-type {\n",
       "        vertical-align: middle;\n",
       "    }\n",
       "\n",
       "    .dataframe tbody tr th {\n",
       "        vertical-align: top;\n",
       "    }\n",
       "\n",
       "    .dataframe thead th {\n",
       "        text-align: right;\n",
       "    }\n",
       "</style>\n",
       "<table border=\"1\" class=\"dataframe\">\n",
       "  <thead>\n",
       "    <tr style=\"text-align: right;\">\n",
       "      <th></th>\n",
       "      <th>user_id</th>\n",
       "      <th>status</th>\n",
       "      <th>service</th>\n",
       "      <th>provider</th>\n",
       "      <th>user_email</th>\n",
       "      <th>date</th>\n",
       "      <th>slot</th>\n",
       "      <th>slot_end</th>\n",
       "      <th>duration</th>\n",
       "    </tr>\n",
       "  </thead>\n",
       "  <tbody>\n",
       "    <tr>\n",
       "      <td>0</td>\n",
       "      <td>NaN</td>\n",
       "      <td>pending</td>\n",
       "      <td>404</td>\n",
       "      <td>415</td>\n",
       "      <td>abrahammrjones@gmail.com</td>\n",
       "      <td>1591833600</td>\n",
       "      <td>1591876800</td>\n",
       "      <td>1591880400</td>\n",
       "      <td>01:00:00</td>\n",
       "    </tr>\n",
       "    <tr>\n",
       "      <td>1</td>\n",
       "      <td>10.0</td>\n",
       "      <td>pending</td>\n",
       "      <td>456</td>\n",
       "      <td>417</td>\n",
       "      <td>abrahammrjones@gmail.com</td>\n",
       "      <td>1591833600</td>\n",
       "      <td>1591880400</td>\n",
       "      <td>1591891200</td>\n",
       "      <td>03:00:00</td>\n",
       "    </tr>\n",
       "    <tr>\n",
       "      <td>2</td>\n",
       "      <td>10.0</td>\n",
       "      <td>pending</td>\n",
       "      <td>460</td>\n",
       "      <td>415</td>\n",
       "      <td>abrahammrjones@gmail.com</td>\n",
       "      <td>1591833600</td>\n",
       "      <td>1591880400</td>\n",
       "      <td>1591884000</td>\n",
       "      <td>01:00:00</td>\n",
       "    </tr>\n",
       "    <tr>\n",
       "      <td>3</td>\n",
       "      <td>10.0</td>\n",
       "      <td>pending</td>\n",
       "      <td>458</td>\n",
       "      <td>415</td>\n",
       "      <td>abrahammrjones@gmail.com</td>\n",
       "      <td>1591833600</td>\n",
       "      <td>1591884000</td>\n",
       "      <td>1591891200</td>\n",
       "      <td>02:00:00</td>\n",
       "    </tr>\n",
       "    <tr>\n",
       "      <td>4</td>\n",
       "      <td>10.0</td>\n",
       "      <td>pending</td>\n",
       "      <td>448</td>\n",
       "      <td>415</td>\n",
       "      <td>abrahammrjones@gmail.com</td>\n",
       "      <td>1591833600</td>\n",
       "      <td>1591884000</td>\n",
       "      <td>1591887600</td>\n",
       "      <td>01:00:00</td>\n",
       "    </tr>\n",
       "    <tr>\n",
       "      <td>5</td>\n",
       "      <td>10.0</td>\n",
       "      <td>pending</td>\n",
       "      <td>442</td>\n",
       "      <td>415</td>\n",
       "      <td>abrahammrjones@gmail.com</td>\n",
       "      <td>1591833600</td>\n",
       "      <td>1591902000</td>\n",
       "      <td>1591905600</td>\n",
       "      <td>01:00:00</td>\n",
       "    </tr>\n",
       "  </tbody>\n",
       "</table>\n",
       "</div>"
      ],
      "text/plain": [
       "   user_id   status  service  provider                user_email        date  \\\n",
       "0      NaN  pending      404       415  abrahammrjones@gmail.com  1591833600   \n",
       "1     10.0  pending      456       417  abrahammrjones@gmail.com  1591833600   \n",
       "2     10.0  pending      460       415  abrahammrjones@gmail.com  1591833600   \n",
       "3     10.0  pending      458       415  abrahammrjones@gmail.com  1591833600   \n",
       "4     10.0  pending      448       415  abrahammrjones@gmail.com  1591833600   \n",
       "5     10.0  pending      442       415  abrahammrjones@gmail.com  1591833600   \n",
       "\n",
       "         slot    slot_end  duration  \n",
       "0  1591876800  1591880400  01:00:00  \n",
       "1  1591880400  1591891200  03:00:00  \n",
       "2  1591880400  1591884000  01:00:00  \n",
       "3  1591884000  1591891200  02:00:00  \n",
       "4  1591884000  1591887600  01:00:00  \n",
       "5  1591902000  1591905600  01:00:00  "
      ]
     },
     "execution_count": 12,
     "metadata": {},
     "output_type": "execute_result"
    }
   ],
   "source": [
    "ap[\"duration\"] = duration\n",
    "ap"
   ]
  },
  {
   "cell_type": "code",
   "execution_count": null,
   "metadata": {},
   "outputs": [],
   "source": []
  }
 ],
 "metadata": {
  "kernelspec": {
   "display_name": "Python 3",
   "language": "python",
   "name": "python3"
  },
  "language_info": {
   "codemirror_mode": {
    "name": "ipython",
    "version": 3
   },
   "file_extension": ".py",
   "mimetype": "text/x-python",
   "name": "python",
   "nbconvert_exporter": "python",
   "pygments_lexer": "ipython3",
   "version": "3.7.4"
  }
 },
 "nbformat": 4,
 "nbformat_minor": 4
}

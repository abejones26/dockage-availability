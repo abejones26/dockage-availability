{
 "cells": [
  {
   "cell_type": "code",
   "execution_count": 22,
   "metadata": {},
   "outputs": [
    {
     "name": "stdout",
     "output_type": "stream",
     "text": [
      "2020-07-28\n",
      "\n",
      "PIZZERIA PORTOFINO\n",
      "                     boat_length  dockage  availability\n",
      "hour     date                                          \n",
      "20:00 PM 2020-07-28           75      120            45\n",
      "21:00 PM 2020-07-28           75      120            45\n",
      "\n",
      "\n",
      "\n"
     ]
    }
   ],
   "source": [
    "import os\n",
    "import pandas as pd\n",
    "from datetime import datetime as dt\n",
    "import time\n",
    "import plotly.express as px\n",
    "import mysql.connector\n",
    "from mysql.connector import Error\n",
    "import numpy as np\n",
    "import config\n",
    "\n",
    "def create_chart_df(frame):\n",
    "    times = []\n",
    "    for k,v in frame.iterrows():    \n",
    "        time = pd.date_range(v.start_time, v.end_time, freq=\"60min\",).time\n",
    "        times.append([v.boat_length,v.provider,v.date,v.dockage,time])\n",
    "\n",
    "    df= pd.DataFrame(times,columns=['boat_length','provider','date','dockage','hour'])\n",
    "    df2 = df.explode(column='hour')\n",
    "    df2['hour'] = df2.hour.apply(lambda x: x.strftime('%H:%M %p'))\n",
    "    df2.reset_index(inplace=True)\n",
    "    df3 = pd.DataFrame(df2.groupby(['provider','hour','date'])['boat_length'].sum())\n",
    "    df3['dockage'] = df2.dockage.iloc[1]\n",
    "    df3['availability']= df3.dockage - df3.boat_length\n",
    "    return df3\n",
    "\n",
    "host = config.host\n",
    "database = config.database\n",
    "user = config.user\n",
    "password = config.password\n",
    "\n",
    "conn = mysql.connector.connect(host = host, database = database, user = user, password = password)\n",
    "\n",
    "appointments = \"SELECT \\\n",
    "    wp_jet_appointments.ID, \\\n",
    "    wp_jet_appointments.status, \\\n",
    "    a.post_title as service, \\\n",
    "    b.post_title as provider, \\\n",
    "    d.meta_value as dockage, \\\n",
    "    wp_jet_appointments.user_email, \\\n",
    "    wp_jet_appointments.date, \\\n",
    "    wp_jet_appointments.slot AS start_time, \\\n",
    "    wp_jet_appointments.slot_end AS end_time, \\\n",
    "    wp_jet_appointments.slot_end - wp_jet_appointments.slot as duration, \\\n",
    "    wp_jet_appointments.order_id AS confirmation, \\\n",
    "    u.display_name as captain, \\\n",
    "    c.meta_value AS boat_length, \\\n",
    "    wp_jet_appointments.phone, \\\n",
    "    wp_jet_appointments.comments \\\n",
    "FROM wp_jet_appointments \\\n",
    "INNER JOIN wp_posts AS a ON wp_jet_appointments.service = a.ID \\\n",
    "INNER JOIN wp_posts AS b ON wp_jet_appointments.provider = b.ID \\\n",
    "INNER JOIN wp_postmeta AS d ON wp_jet_appointments.provider = d.post_id \\\n",
    "INNER JOIN wp_users AS u ON wp_jet_appointments.user_id = u.ID \\\n",
    "INNER JOIN wp_usermeta AS c ON u.ID = c.user_id \\\n",
    "WHERE order_id > 0 \\\n",
    "AND d.meta_key = 'dock_length' \\\n",
    "AND c.meta_key = 'length' \\\n",
    "ORDER BY date, start_time ASC\"\n",
    "\n",
    "ap_data = pd.read_sql_query(appointments, conn)\n",
    "ap_data.to_csv(\"assets/data/wp_jet_appointments.csv\", index=False)\n",
    "ap = pd.read_csv(\"assets/data/wp_jet_appointments.csv\")\n",
    "\n",
    "# Using a unix epoch time\n",
    "ap[\"date\"] = pd.to_datetime(ap[\"date\"], unit='s')\n",
    "ap[\"start_time\"] = pd.to_datetime(ap[\"start_time\"], unit='s').dt.time\n",
    "ap[\"end_time\"] = pd.to_datetime(ap[\"end_time\"], unit='s').dt.time\n",
    "ap[\"duration\"] = pd.to_datetime(ap[\"duration\"], unit='s').dt.time\n",
    "ap[\"start_time\"] = ap[\"start_time\"].apply(lambda x: x.strftime('%I:%M %p'))\n",
    "ap[\"end_time\"] = ap[\"end_time\"].apply(lambda x: x.strftime('%I:%M %p'))\n",
    "dock_data = ap[[\"provider\", \"dockage\", \"date\", \"start_time\", \"end_time\", \"duration\", \"boat_length\"]]\n",
    "\n",
    "############################################################################################################\n",
    "\n",
    "date = \"2020-07-28\"\n",
    "dock_data = dock_data[dock_data.date==date]\n",
    "try:\n",
    "    df = create_chart_df(dock_data)\n",
    "    df.to_csv('output.csv')\n",
    "    now = dt.now().strftime(\"%a, %b %d, %Y, %H:%M:%S\")\n",
    "    print(f\"{date}\".upper())\n",
    "    print()\n",
    "    ind = df.index.get_level_values('provider').unique().tolist()\n",
    "    for i in ind:\n",
    "        print(i.upper())\n",
    "        print(df.loc[i])\n",
    "        print()\n",
    "        print()\n",
    "        print()\n",
    "except(IndexError):\n",
    "    print('WARNING'*500)\n",
    "    print(f'No Data for {date}')"
   ]
  },
  {
   "cell_type": "markdown",
   "metadata": {},
   "source": [
    "# DatePicker"
   ]
  },
  {
   "cell_type": "code",
   "execution_count": 53,
   "metadata": {},
   "outputs": [
    {
     "data": {
      "application/vnd.jupyter.widget-view+json": {
       "model_id": "514fff59a8ee4c2e8086c90d282b6743",
       "version_major": 2,
       "version_minor": 0
      },
      "text/plain": [
       "DatePicker(value=datetime.datetime(2020, 7, 15, 21, 44, 56, 316475), description='Pick a Date')"
      ]
     },
     "metadata": {},
     "output_type": "display_data"
    }
   ],
   "source": [
    "import ipywidgets as widgets\n",
    "from IPython.display import display\n",
    "from datetime import datetime as dt\n",
    "x = dt.now()\n",
    "datepicker = widgets.DatePicker(\n",
    "    description='Pick a Date',\n",
    "    disabled=False)\n",
    "# slider = widgets.IntSlider()\n",
    "datepicker.value = x\n",
    "def on_change(v):\n",
    "    x = v['new'] \n",
    "datepicker.observe(on_change, names='value')\n",
    "\n",
    "display(datepicker)\n"
   ]
  },
  {
   "cell_type": "code",
   "execution_count": 54,
   "metadata": {},
   "outputs": [
    {
     "name": "stdout",
     "output_type": "stream",
     "text": [
      "2020-07-15 21:44:56.316475\n"
     ]
    }
   ],
   "source": [
    "print(datepicker.value)"
   ]
  },
  {
   "cell_type": "code",
   "execution_count": 55,
   "metadata": {},
   "outputs": [
    {
     "data": {
      "application/vnd.jupyter.widget-view+json": {
       "model_id": "08a7851cdfa944adaecb4fb6c891be52",
       "version_major": 2,
       "version_minor": 0
      },
      "text/plain": [
       "Button(description='Submit', style=ButtonStyle())"
      ]
     },
     "metadata": {},
     "output_type": "display_data"
    },
    {
     "data": {
      "application/vnd.jupyter.widget-view+json": {
       "model_id": "9636768890ad4105be3282548f990a1c",
       "version_major": 2,
       "version_minor": 0
      },
      "text/plain": [
       "Output()"
      ]
     },
     "metadata": {},
     "output_type": "display_data"
    },
    {
     "name": "stdout",
     "output_type": "stream",
     "text": [
      "Output()\n"
     ]
    }
   ],
   "source": [
    "\n",
    "from IPython.display import display\n",
    "button = widgets.Button(description=\"Submit\")\n",
    "output = widgets.Output()\n",
    "\n",
    "display(button, output)\n",
    "\n",
    "def on_button_clicked(b):\n",
    "    with output:\n",
    "        print(\"Button clicked.\")\n",
    "\n",
    "button.on_click(on_button_clicked)"
   ]
  },
  {
   "cell_type": "markdown",
   "metadata": {},
   "source": [
    "# Feature columns and renaming"
   ]
  },
  {
   "cell_type": "code",
   "execution_count": null,
   "metadata": {},
   "outputs": [],
   "source": [
    "dock_data = dock_data[[\"provider\", \"dockage\", \"date\", \"slot\", \"slot_end\", \"duration\", \"meta_value\"]]\n",
    "dock_data = dock_data.rename(columns={\"slot\":\"start_time\", \"slot_end\": \"end_time\",\"meta_value\": \"boat_length\"})"
   ]
  },
  {
   "cell_type": "code",
   "execution_count": null,
   "metadata": {
    "scrolled": true
   },
   "outputs": [],
   "source": [
    "cw = dock_data.loc[dock_data[\"provider\"] == \"City Winery at the Chicago Riverwalk\"]\n",
    "cw.head()"
   ]
  },
  {
   "cell_type": "markdown",
   "metadata": {},
   "source": [
    "create_chart_data"
   ]
  },
  {
   "cell_type": "code",
   "execution_count": null,
   "metadata": {},
   "outputs": [],
   "source": [
    "# %%writefile chart_helper.py\n",
    "def create_chart_df(frame):\n",
    "    times = []\n",
    "    for k,v in frame.iterrows():    \n",
    "        time = pd.date_range(v.start_time, v.end_time, freq=\"60min\",).time\n",
    "        times.append([v.boat_length,v.provider,v.date,v.dockage,time])\n",
    "\n",
    "    df= pd.DataFrame(times,columns=['boat_length','provider','date','dockage','hour'])\n",
    "    df2 = df.explode(column='hour')\n",
    "    df2['hour'] = df2.hour.apply(lambda x: x.strftime('%H:%M %p'))\n",
    "    df2.reset_index(inplace=True)\n",
    "    df3 = pd.DataFrame(df2.groupby(['provider','hour'])['boat_length'].sum())\n",
    "    df3['dockage'] = df2.dockage.iloc[1]\n",
    "    df3['availability']= df3.dockage - df3.boat_length\n",
    "    return df3"
   ]
  },
  {
   "cell_type": "code",
   "execution_count": null,
   "metadata": {},
   "outputs": [],
   "source": [
    "dockspace={'City Winery at the Chicago Riverwalk': 210,\n",
    " 'Marina City': 55,\n",
    " 'Pizzeria Portofino': 120}\n",
    "\n",
    "df = create_chart_df(dock_data)\n",
    "\n",
    "for key,value in dockspace.items():\n",
    "    df.loc[key,'dockage'] = value\n",
    "\n",
    "df.to_csv('output.csv')"
   ]
  },
  {
   "cell_type": "code",
   "execution_count": 86,
   "metadata": {},
   "outputs": [
    {
     "name": "stdout",
     "output_type": "stream",
     "text": [
      "Wed, Jul 15, 2020, 22:05:58\n"
     ]
    }
   ],
   "source": [
    "print(dt.now().strftime(\"%a, %b %d, %Y, %H:%M:%S\"))"
   ]
  },
  {
   "cell_type": "code",
   "execution_count": null,
   "metadata": {},
   "outputs": [],
   "source": [
    "dt.now().strftime"
   ]
  },
  {
   "cell_type": "code",
   "execution_count": null,
   "metadata": {},
   "outputs": [],
   "source": [
    "dt.now().strftime"
   ]
  },
  {
   "cell_type": "code",
   "execution_count": 74,
   "metadata": {},
   "outputs": [
    {
     "data": {
      "text/plain": [
       "' 9:59 PM'"
      ]
     },
     "execution_count": 74,
     "metadata": {},
     "output_type": "execute_result"
    }
   ],
   "source": [
    "dt.now().strftime('%%l:%M %p')"
   ]
  },
  {
   "cell_type": "code",
   "execution_count": 106,
   "metadata": {},
   "outputs": [
    {
     "name": "stdout",
     "output_type": "stream",
     "text": [
      "Overwriting update.py\n"
     ]
    }
   ],
   "source": [
    "# %%writefile update.py\n",
    "import os\n",
    "import pandas as pd\n",
    "from datetime import datetime as dt\n",
    "import time\n",
    "import plotly.express as px\n",
    "import mysql.connector\n",
    "from mysql.connector import Error\n",
    "import numpy as np\n",
    "import config\n",
    "\n",
    "def create_chart_df(frame):\n",
    "    times = []\n",
    "    for k,v in frame.iterrows():    \n",
    "        time = pd.date_range(v.start_time, v.end_time, freq=\"60min\",).time\n",
    "        times.append([v.boat_length,v.provider,v.date,v.dockage,time])\n",
    "\n",
    "    df= pd.DataFrame(times,columns=['boat_length','provider','date','dockage','hour'])\n",
    "    df2 = df.explode(column='hour')\n",
    "    df2['hour'] = df2.hour.apply(lambda x: x.strftime('%H:%M %p'))\n",
    "    df2.reset_index(inplace=True)\n",
    "    df3 = pd.DataFrame(df2.groupby(['provider','hour'])['boat_length'].sum())\n",
    "    df3['dockage'] = df2.dockage.iloc[1]\n",
    "    df3['availability']= df3.dockage - df3.boat_length\n",
    "    return df3\n",
    "\n",
    "date = input(\"What date do you want data for? 2020-05-14\")\n",
    "\n",
    "while True:\n",
    "    host = config.host\n",
    "    database = config.database\n",
    "    user = config.user\n",
    "    password = config.password\n",
    "\n",
    "    conn = mysql.connector.connect(host = host, database = database, user = user, password = password)\n",
    "\n",
    "\n",
    "\n",
    "    appointments = \"SELECT user_id, status, service, provider, user_email, date, slot, slot_end, order_id \\\n",
    "                    FROM wp_jet_appointments \\\n",
    "                    ORDER BY slot asc\"\n",
    "\n",
    "\n",
    "    ap_data = pd.read_sql_query(appointments, conn)\n",
    "    ap_data.to_csv(\"assets/data/wp_jet_appointments.csv\", index=False)\n",
    "    ap = pd.read_csv(\"assets/data/wp_jet_appointments.csv\")\n",
    "    duration = pd.to_datetime((ap.slot_end - ap.slot), unit='s').dt.time\n",
    "    ap[\"duration\"] = duration\n",
    "\n",
    "    # Using a unix epoch time\n",
    "    ap[\"date\"] = pd.to_datetime(ap[\"date\"], unit='s')\n",
    "    ap[\"slot\"] = pd.to_datetime(ap[\"slot\"], unit='s').dt.time\n",
    "    ap[\"slot_end\"] = pd.to_datetime(ap[\"slot_end\"], unit='s').dt.time\n",
    "    ap[\"slot\"] = ap[\"slot\"].apply(lambda x: x.strftime('%I:%M %p'))\n",
    "    ap[\"slot_end\"] = ap[\"slot_end\"].apply(lambda x: x.strftime('%I:%M %p'))\n",
    "    ap[\"provider\"] = ap[\"provider\"].replace(415, \"City Winery at the Chicago Riverwalk\")\n",
    "    ap[\"provider\"] = ap[\"provider\"].replace(417, \"Marina City\")\n",
    "    ap[\"provider\"] = ap[\"provider\"].replace(421, \"Pizzeria Portofino\")\n",
    "    ap[\"service\"] = ap[\"service\"].replace(478, \"Dockage Under 24' 1hr\")\n",
    "    ap[\"service\"] = ap[\"service\"].replace(476, \"Dockage Under 24' 2hr\")\n",
    "    ap[\"service\"] = ap[\"service\"].replace(474, \"Dockage Under 24' 3hr\")\n",
    "    ap[\"service\"] = ap[\"service\"].replace(472, \"Dockage 25' to 34' 1hr\")\n",
    "    ap[\"service\"] = ap[\"service\"].replace(470, \"Dockage 25' to 34' 2hr\")\n",
    "    ap[\"service\"] = ap[\"service\"].replace(468, \"Dockage 25' to 34' 3hr\")\n",
    "    ap[\"service\"] = ap[\"service\"].replace(466, \"Dockage 35' to 44' 1hr\")\n",
    "    ap[\"service\"] = ap[\"service\"].replace(464, \"Dockage 35' to 44' 2hr\")\n",
    "    ap[\"service\"] = ap[\"service\"].replace(462, \"Dockage 35' to 44' 3hr\")\n",
    "    ap[\"service\"] = ap[\"service\"].replace(460, \"Dockage 45' to 54' 1hr\")\n",
    "    ap[\"service\"] = ap[\"service\"].replace(458, \"Dockage 45' to 54' 2hr\")\n",
    "    ap[\"service\"] = ap[\"service\"].replace(456, \"Dockage 45' to 54' 3hr\")\n",
    "    ap[\"service\"] = ap[\"service\"].replace(454, \"Dockage 55' to 64' 1hr\")\n",
    "    ap[\"service\"] = ap[\"service\"].replace(452, \"Dockage 55' to 64' 2hr\")\n",
    "    ap[\"service\"] = ap[\"service\"].replace(450, \"Dockage 55' to 64' 3hr\")\n",
    "    ap[\"service\"] = ap[\"service\"].replace(448, \"Dockage 65' to 124' 1hr\")\n",
    "    ap[\"service\"] = ap[\"service\"].replace(446, \"Dockage 65' to 124' 2hr\")\n",
    "    ap[\"service\"] = ap[\"service\"].replace(444, \"Dockage 65' to 124' 3hr\")\n",
    "    ap[\"service\"] = ap[\"service\"].replace(442, \"Dockage 125' and more 1hr\")\n",
    "    ap[\"service\"] = ap[\"service\"].replace(440, \"Dockage 125' and more 2hr\")\n",
    "    ap[\"service\"] = ap[\"service\"].replace(438, \"Dockage 125' and more 3hr\")\n",
    "    user_query = \"SELECT * \\\n",
    "            FROM wp_usermeta \\\n",
    "            WHERE meta_key = 'length' \"\n",
    "\n",
    "    usermeta_data = pd.read_sql_query(user_query, conn)\n",
    "    usermeta_data.to_csv(\"assets/data/wp_usermeta.csv\", index=False)\n",
    "    user = pd.read_csv(\"assets/data/wp_usermeta.csv\")\n",
    "    ap_m = pd.merge(ap, user, how=\"inner\", on=\"user_id\")\n",
    "    pro_doc = {\n",
    "        \"provider\" : [\"City Winery at the Chicago Riverwalk\", \"Marina City\", \"Pizzeria Portofino\"],\n",
    "        \"dockage\" : [210, 55, 120]\n",
    "        }\n",
    "\n",
    "    pro_doc = pd.DataFrame(pro_doc)\n",
    "    dock_data = pd.merge(pro_doc, ap_m, how=\"inner\", on=\"provider\")\n",
    "    dock_data = dock_data[[\"provider\", \"dockage\", \"date\", \"slot\", \"slot_end\", \"duration\", \"meta_value\"]]\n",
    "    dock_data = dock_data[dock_data.date==date]\n",
    "    dock_data = dock_data.rename(columns={\"slot\":\"start_time\", \"slot_end\": \"end_time\",\"meta_value\": \"boat_length\"})\n",
    "\n",
    "    df = create_chart_df(dock_data)\n",
    "    df.to_csv('output.csv')\n",
    "    now = dt.now().strftime(\"%a, %b %d, %Y, %H:%M:%S\")\n",
    "    print(f\"Updated at {now}\")\n",
    "    time.sleep(10)\n",
    "\n",
    "# df.to_csv('output.csv')"
   ]
  },
  {
   "cell_type": "code",
   "execution_count": 101,
   "metadata": {},
   "outputs": [
    {
     "name": "stdout",
     "output_type": "stream",
     "text": [
      "What date do you want data for? 2020-05-14'2020-06-11'\n"
     ]
    }
   ],
   "source": [
    "date = input(\"What date do you want data for? 2020-05-14\")"
   ]
  },
  {
   "cell_type": "code",
   "execution_count": 105,
   "metadata": {},
   "outputs": [
    {
     "data": {
      "text/html": [
       "<div>\n",
       "<style scoped>\n",
       "    .dataframe tbody tr th:only-of-type {\n",
       "        vertical-align: middle;\n",
       "    }\n",
       "\n",
       "    .dataframe tbody tr th {\n",
       "        vertical-align: top;\n",
       "    }\n",
       "\n",
       "    .dataframe thead th {\n",
       "        text-align: right;\n",
       "    }\n",
       "</style>\n",
       "<table border=\"1\" class=\"dataframe\">\n",
       "  <thead>\n",
       "    <tr style=\"text-align: right;\">\n",
       "      <th></th>\n",
       "      <th></th>\n",
       "      <th>boat_length</th>\n",
       "      <th>dockage</th>\n",
       "      <th>availability</th>\n",
       "    </tr>\n",
       "    <tr>\n",
       "      <th>provider</th>\n",
       "      <th>hour</th>\n",
       "      <th></th>\n",
       "      <th></th>\n",
       "      <th></th>\n",
       "    </tr>\n",
       "  </thead>\n",
       "  <tbody>\n",
       "    <tr>\n",
       "      <th rowspan=\"6\" valign=\"top\">City Winery at the Chicago Riverwalk</th>\n",
       "      <th>13:00 PM</th>\n",
       "      <td>75</td>\n",
       "      <td>210</td>\n",
       "      <td>135</td>\n",
       "    </tr>\n",
       "    <tr>\n",
       "      <th>14:00 PM</th>\n",
       "      <td>225</td>\n",
       "      <td>210</td>\n",
       "      <td>-15</td>\n",
       "    </tr>\n",
       "    <tr>\n",
       "      <th>15:00 PM</th>\n",
       "      <td>150</td>\n",
       "      <td>210</td>\n",
       "      <td>60</td>\n",
       "    </tr>\n",
       "    <tr>\n",
       "      <th>16:00 PM</th>\n",
       "      <td>75</td>\n",
       "      <td>210</td>\n",
       "      <td>135</td>\n",
       "    </tr>\n",
       "    <tr>\n",
       "      <th>19:00 PM</th>\n",
       "      <td>75</td>\n",
       "      <td>210</td>\n",
       "      <td>135</td>\n",
       "    </tr>\n",
       "    <tr>\n",
       "      <th>20:00 PM</th>\n",
       "      <td>75</td>\n",
       "      <td>210</td>\n",
       "      <td>135</td>\n",
       "    </tr>\n",
       "    <tr>\n",
       "      <th rowspan=\"4\" valign=\"top\">Marina City</th>\n",
       "      <th>13:00 PM</th>\n",
       "      <td>75</td>\n",
       "      <td>210</td>\n",
       "      <td>135</td>\n",
       "    </tr>\n",
       "    <tr>\n",
       "      <th>14:00 PM</th>\n",
       "      <td>75</td>\n",
       "      <td>210</td>\n",
       "      <td>135</td>\n",
       "    </tr>\n",
       "    <tr>\n",
       "      <th>15:00 PM</th>\n",
       "      <td>75</td>\n",
       "      <td>210</td>\n",
       "      <td>135</td>\n",
       "    </tr>\n",
       "    <tr>\n",
       "      <th>16:00 PM</th>\n",
       "      <td>75</td>\n",
       "      <td>210</td>\n",
       "      <td>135</td>\n",
       "    </tr>\n",
       "  </tbody>\n",
       "</table>\n",
       "</div>"
      ],
      "text/plain": [
       "                                               boat_length  dockage  \\\n",
       "provider                             hour                             \n",
       "City Winery at the Chicago Riverwalk 13:00 PM           75      210   \n",
       "                                     14:00 PM          225      210   \n",
       "                                     15:00 PM          150      210   \n",
       "                                     16:00 PM           75      210   \n",
       "                                     19:00 PM           75      210   \n",
       "                                     20:00 PM           75      210   \n",
       "Marina City                          13:00 PM           75      210   \n",
       "                                     14:00 PM           75      210   \n",
       "                                     15:00 PM           75      210   \n",
       "                                     16:00 PM           75      210   \n",
       "\n",
       "                                               availability  \n",
       "provider                             hour                    \n",
       "City Winery at the Chicago Riverwalk 13:00 PM           135  \n",
       "                                     14:00 PM           -15  \n",
       "                                     15:00 PM            60  \n",
       "                                     16:00 PM           135  \n",
       "                                     19:00 PM           135  \n",
       "                                     20:00 PM           135  \n",
       "Marina City                          13:00 PM           135  \n",
       "                                     14:00 PM           135  \n",
       "                                     15:00 PM           135  \n",
       "                                     16:00 PM           135  "
      ]
     },
     "execution_count": 105,
     "metadata": {},
     "output_type": "execute_result"
    }
   ],
   "source": [
    "create_chart_df(test)"
   ]
  },
  {
   "cell_type": "code",
   "execution_count": 88,
   "metadata": {
    "scrolled": true
   },
   "outputs": [
    {
     "data": {
      "text/plain": [
       "'Wed, Jul 15, 2020, 22:07:26'"
      ]
     },
     "execution_count": 88,
     "metadata": {},
     "output_type": "execute_result"
    }
   ],
   "source": [
    "now = dt.now().strftime(\"%a, %b %d, %Y, %H:%M:%S\")"
   ]
  },
  {
   "cell_type": "code",
   "execution_count": 63,
   "metadata": {},
   "outputs": [
    {
     "data": {
      "text/html": [
       "<div>\n",
       "<style scoped>\n",
       "    .dataframe tbody tr th:only-of-type {\n",
       "        vertical-align: middle;\n",
       "    }\n",
       "\n",
       "    .dataframe tbody tr th {\n",
       "        vertical-align: top;\n",
       "    }\n",
       "\n",
       "    .dataframe thead th {\n",
       "        text-align: right;\n",
       "    }\n",
       "</style>\n",
       "<table border=\"1\" class=\"dataframe\">\n",
       "  <thead>\n",
       "    <tr style=\"text-align: right;\">\n",
       "      <th></th>\n",
       "      <th>dockage</th>\n",
       "      <th>date</th>\n",
       "      <th>start_time</th>\n",
       "      <th>end_time</th>\n",
       "      <th>duration</th>\n",
       "      <th>boat_length</th>\n",
       "    </tr>\n",
       "    <tr>\n",
       "      <th>provider</th>\n",
       "      <th></th>\n",
       "      <th></th>\n",
       "      <th></th>\n",
       "      <th></th>\n",
       "      <th></th>\n",
       "      <th></th>\n",
       "    </tr>\n",
       "  </thead>\n",
       "  <tbody>\n",
       "    <tr>\n",
       "      <th>City Winery at the Chicago Riverwalk</th>\n",
       "      <td>210</td>\n",
       "      <td>2020-07-25</td>\n",
       "      <td>12:00 PM</td>\n",
       "      <td>12:00 PM</td>\n",
       "      <td>02:00:00</td>\n",
       "      <td>124</td>\n",
       "    </tr>\n",
       "    <tr>\n",
       "      <th>Marina City</th>\n",
       "      <td>55</td>\n",
       "      <td>2020-06-11</td>\n",
       "      <td>01:00 PM</td>\n",
       "      <td>04:00 PM</td>\n",
       "      <td>03:00:00</td>\n",
       "      <td>75</td>\n",
       "    </tr>\n",
       "    <tr>\n",
       "      <th>Pizzeria Portofino</th>\n",
       "      <td>120</td>\n",
       "      <td>2020-08-29</td>\n",
       "      <td>12:00 PM</td>\n",
       "      <td>12:00 PM</td>\n",
       "      <td>02:00:00</td>\n",
       "      <td>75</td>\n",
       "    </tr>\n",
       "  </tbody>\n",
       "</table>\n",
       "</div>"
      ],
      "text/plain": [
       "                                      dockage       date start_time  end_time  \\\n",
       "provider                                                                        \n",
       "City Winery at the Chicago Riverwalk      210 2020-07-25   12:00 PM  12:00 PM   \n",
       "Marina City                                55 2020-06-11   01:00 PM  04:00 PM   \n",
       "Pizzeria Portofino                        120 2020-08-29   12:00 PM  12:00 PM   \n",
       "\n",
       "                                      duration  boat_length  \n",
       "provider                                                     \n",
       "City Winery at the Chicago Riverwalk  02:00:00          124  \n",
       "Marina City                           03:00:00           75  \n",
       "Pizzeria Portofino                    02:00:00           75  "
      ]
     },
     "execution_count": 63,
     "metadata": {},
     "output_type": "execute_result"
    }
   ],
   "source": [
    "dock_data.groupby('provider').max()"
   ]
  },
  {
   "cell_type": "code",
   "execution_count": 98,
   "metadata": {},
   "outputs": [
    {
     "data": {
      "text/html": [
       "<div>\n",
       "<style scoped>\n",
       "    .dataframe tbody tr th:only-of-type {\n",
       "        vertical-align: middle;\n",
       "    }\n",
       "\n",
       "    .dataframe tbody tr th {\n",
       "        vertical-align: top;\n",
       "    }\n",
       "\n",
       "    .dataframe thead th {\n",
       "        text-align: right;\n",
       "    }\n",
       "</style>\n",
       "<table border=\"1\" class=\"dataframe\">\n",
       "  <thead>\n",
       "    <tr style=\"text-align: right;\">\n",
       "      <th></th>\n",
       "      <th>provider</th>\n",
       "      <th>hour</th>\n",
       "      <th>boat_length</th>\n",
       "      <th>dockage</th>\n",
       "      <th>availability</th>\n",
       "    </tr>\n",
       "  </thead>\n",
       "  <tbody>\n",
       "    <tr>\n",
       "      <th>0</th>\n",
       "      <td>City Winery at the Chicago Riverwalk</td>\n",
       "      <td>11:00 AM</td>\n",
       "      <td>495</td>\n",
       "      <td>210</td>\n",
       "      <td>-285</td>\n",
       "    </tr>\n",
       "    <tr>\n",
       "      <th>1</th>\n",
       "      <td>City Winery at the Chicago Riverwalk</td>\n",
       "      <td>12:00 PM</td>\n",
       "      <td>570</td>\n",
       "      <td>210</td>\n",
       "      <td>-360</td>\n",
       "    </tr>\n",
       "    <tr>\n",
       "      <th>2</th>\n",
       "      <td>City Winery at the Chicago Riverwalk</td>\n",
       "      <td>13:00 PM</td>\n",
       "      <td>420</td>\n",
       "      <td>210</td>\n",
       "      <td>-210</td>\n",
       "    </tr>\n",
       "    <tr>\n",
       "      <th>3</th>\n",
       "      <td>City Winery at the Chicago Riverwalk</td>\n",
       "      <td>14:00 PM</td>\n",
       "      <td>574</td>\n",
       "      <td>210</td>\n",
       "      <td>-364</td>\n",
       "    </tr>\n",
       "    <tr>\n",
       "      <th>4</th>\n",
       "      <td>City Winery at the Chicago Riverwalk</td>\n",
       "      <td>15:00 PM</td>\n",
       "      <td>544</td>\n",
       "      <td>210</td>\n",
       "      <td>-334</td>\n",
       "    </tr>\n",
       "    <tr>\n",
       "      <th>5</th>\n",
       "      <td>City Winery at the Chicago Riverwalk</td>\n",
       "      <td>16:00 PM</td>\n",
       "      <td>195</td>\n",
       "      <td>210</td>\n",
       "      <td>15</td>\n",
       "    </tr>\n",
       "    <tr>\n",
       "      <th>6</th>\n",
       "      <td>City Winery at the Chicago Riverwalk</td>\n",
       "      <td>17:00 PM</td>\n",
       "      <td>120</td>\n",
       "      <td>210</td>\n",
       "      <td>90</td>\n",
       "    </tr>\n",
       "    <tr>\n",
       "      <th>7</th>\n",
       "      <td>City Winery at the Chicago Riverwalk</td>\n",
       "      <td>18:00 PM</td>\n",
       "      <td>45</td>\n",
       "      <td>210</td>\n",
       "      <td>165</td>\n",
       "    </tr>\n",
       "    <tr>\n",
       "      <th>8</th>\n",
       "      <td>City Winery at the Chicago Riverwalk</td>\n",
       "      <td>19:00 PM</td>\n",
       "      <td>420</td>\n",
       "      <td>210</td>\n",
       "      <td>-210</td>\n",
       "    </tr>\n",
       "    <tr>\n",
       "      <th>9</th>\n",
       "      <td>City Winery at the Chicago Riverwalk</td>\n",
       "      <td>20:00 PM</td>\n",
       "      <td>574</td>\n",
       "      <td>210</td>\n",
       "      <td>-364</td>\n",
       "    </tr>\n",
       "    <tr>\n",
       "      <th>10</th>\n",
       "      <td>City Winery at the Chicago Riverwalk</td>\n",
       "      <td>21:00 PM</td>\n",
       "      <td>379</td>\n",
       "      <td>210</td>\n",
       "      <td>-169</td>\n",
       "    </tr>\n",
       "    <tr>\n",
       "      <th>11</th>\n",
       "      <td>Marina City</td>\n",
       "      <td>13:00 PM</td>\n",
       "      <td>75</td>\n",
       "      <td>210</td>\n",
       "      <td>135</td>\n",
       "    </tr>\n",
       "    <tr>\n",
       "      <th>12</th>\n",
       "      <td>Marina City</td>\n",
       "      <td>14:00 PM</td>\n",
       "      <td>75</td>\n",
       "      <td>210</td>\n",
       "      <td>135</td>\n",
       "    </tr>\n",
       "    <tr>\n",
       "      <th>13</th>\n",
       "      <td>Marina City</td>\n",
       "      <td>15:00 PM</td>\n",
       "      <td>75</td>\n",
       "      <td>210</td>\n",
       "      <td>135</td>\n",
       "    </tr>\n",
       "    <tr>\n",
       "      <th>14</th>\n",
       "      <td>Marina City</td>\n",
       "      <td>16:00 PM</td>\n",
       "      <td>75</td>\n",
       "      <td>210</td>\n",
       "      <td>135</td>\n",
       "    </tr>\n",
       "    <tr>\n",
       "      <th>15</th>\n",
       "      <td>Pizzeria Portofino</td>\n",
       "      <td>11:00 AM</td>\n",
       "      <td>75</td>\n",
       "      <td>210</td>\n",
       "      <td>135</td>\n",
       "    </tr>\n",
       "    <tr>\n",
       "      <th>16</th>\n",
       "      <td>Pizzeria Portofino</td>\n",
       "      <td>12:00 PM</td>\n",
       "      <td>195</td>\n",
       "      <td>210</td>\n",
       "      <td>15</td>\n",
       "    </tr>\n",
       "    <tr>\n",
       "      <th>17</th>\n",
       "      <td>Pizzeria Portofino</td>\n",
       "      <td>13:00 PM</td>\n",
       "      <td>285</td>\n",
       "      <td>210</td>\n",
       "      <td>-75</td>\n",
       "    </tr>\n",
       "    <tr>\n",
       "      <th>18</th>\n",
       "      <td>Pizzeria Portofino</td>\n",
       "      <td>14:00 PM</td>\n",
       "      <td>240</td>\n",
       "      <td>210</td>\n",
       "      <td>-30</td>\n",
       "    </tr>\n",
       "    <tr>\n",
       "      <th>19</th>\n",
       "      <td>Pizzeria Portofino</td>\n",
       "      <td>15:00 PM</td>\n",
       "      <td>195</td>\n",
       "      <td>210</td>\n",
       "      <td>15</td>\n",
       "    </tr>\n",
       "    <tr>\n",
       "      <th>20</th>\n",
       "      <td>Pizzeria Portofino</td>\n",
       "      <td>16:00 PM</td>\n",
       "      <td>75</td>\n",
       "      <td>210</td>\n",
       "      <td>135</td>\n",
       "    </tr>\n",
       "    <tr>\n",
       "      <th>21</th>\n",
       "      <td>Pizzeria Portofino</td>\n",
       "      <td>17:00 PM</td>\n",
       "      <td>375</td>\n",
       "      <td>210</td>\n",
       "      <td>-165</td>\n",
       "    </tr>\n",
       "    <tr>\n",
       "      <th>22</th>\n",
       "      <td>Pizzeria Portofino</td>\n",
       "      <td>18:00 PM</td>\n",
       "      <td>345</td>\n",
       "      <td>210</td>\n",
       "      <td>-135</td>\n",
       "    </tr>\n",
       "    <tr>\n",
       "      <th>23</th>\n",
       "      <td>Pizzeria Portofino</td>\n",
       "      <td>19:00 PM</td>\n",
       "      <td>495</td>\n",
       "      <td>210</td>\n",
       "      <td>-285</td>\n",
       "    </tr>\n",
       "    <tr>\n",
       "      <th>24</th>\n",
       "      <td>Pizzeria Portofino</td>\n",
       "      <td>20:00 PM</td>\n",
       "      <td>375</td>\n",
       "      <td>210</td>\n",
       "      <td>-165</td>\n",
       "    </tr>\n",
       "    <tr>\n",
       "      <th>25</th>\n",
       "      <td>Pizzeria Portofino</td>\n",
       "      <td>21:00 PM</td>\n",
       "      <td>330</td>\n",
       "      <td>210</td>\n",
       "      <td>-120</td>\n",
       "    </tr>\n",
       "  </tbody>\n",
       "</table>\n",
       "</div>"
      ],
      "text/plain": [
       "                                provider      hour  boat_length  dockage  \\\n",
       "0   City Winery at the Chicago Riverwalk  11:00 AM          495      210   \n",
       "1   City Winery at the Chicago Riverwalk  12:00 PM          570      210   \n",
       "2   City Winery at the Chicago Riverwalk  13:00 PM          420      210   \n",
       "3   City Winery at the Chicago Riverwalk  14:00 PM          574      210   \n",
       "4   City Winery at the Chicago Riverwalk  15:00 PM          544      210   \n",
       "5   City Winery at the Chicago Riverwalk  16:00 PM          195      210   \n",
       "6   City Winery at the Chicago Riverwalk  17:00 PM          120      210   \n",
       "7   City Winery at the Chicago Riverwalk  18:00 PM           45      210   \n",
       "8   City Winery at the Chicago Riverwalk  19:00 PM          420      210   \n",
       "9   City Winery at the Chicago Riverwalk  20:00 PM          574      210   \n",
       "10  City Winery at the Chicago Riverwalk  21:00 PM          379      210   \n",
       "11                           Marina City  13:00 PM           75      210   \n",
       "12                           Marina City  14:00 PM           75      210   \n",
       "13                           Marina City  15:00 PM           75      210   \n",
       "14                           Marina City  16:00 PM           75      210   \n",
       "15                    Pizzeria Portofino  11:00 AM           75      210   \n",
       "16                    Pizzeria Portofino  12:00 PM          195      210   \n",
       "17                    Pizzeria Portofino  13:00 PM          285      210   \n",
       "18                    Pizzeria Portofino  14:00 PM          240      210   \n",
       "19                    Pizzeria Portofino  15:00 PM          195      210   \n",
       "20                    Pizzeria Portofino  16:00 PM           75      210   \n",
       "21                    Pizzeria Portofino  17:00 PM          375      210   \n",
       "22                    Pizzeria Portofino  18:00 PM          345      210   \n",
       "23                    Pizzeria Portofino  19:00 PM          495      210   \n",
       "24                    Pizzeria Portofino  20:00 PM          375      210   \n",
       "25                    Pizzeria Portofino  21:00 PM          330      210   \n",
       "\n",
       "    availability  \n",
       "0           -285  \n",
       "1           -360  \n",
       "2           -210  \n",
       "3           -364  \n",
       "4           -334  \n",
       "5             15  \n",
       "6             90  \n",
       "7            165  \n",
       "8           -210  \n",
       "9           -364  \n",
       "10          -169  \n",
       "11           135  \n",
       "12           135  \n",
       "13           135  \n",
       "14           135  \n",
       "15           135  \n",
       "16            15  \n",
       "17           -75  \n",
       "18           -30  \n",
       "19            15  \n",
       "20           135  \n",
       "21          -165  \n",
       "22          -135  \n",
       "23          -285  \n",
       "24          -165  \n",
       "25          -120  "
      ]
     },
     "execution_count": 98,
     "metadata": {},
     "output_type": "execute_result"
    }
   ],
   "source": [
    "output = pd.read_csv('output.csv'); output"
   ]
  },
  {
   "cell_type": "markdown",
   "metadata": {},
   "source": [
    "# Bar Graph"
   ]
  },
  {
   "cell_type": "code",
   "execution_count": null,
   "metadata": {},
   "outputs": [],
   "source": [
    "fig = px.bar(cw, x='start_time', y='boat_length',\n",
    "             hover_data=['date', 'boat_length'], color='dockage',\n",
    "             labels={'dockage':'Size Length Of Dock'}, height=400)\n",
    "fig.write_html('dockage_availability.html', auto_open=True)"
   ]
  },
  {
   "cell_type": "markdown",
   "metadata": {},
   "source": [
    "# Notes\n",
    "\n",
    "### Data Fields\n",
    "1. Unique User Id Per Boat\n",
    "2. Boat Length\n",
    "3. Dock Capacity\n",
    "4. Status = Processed\n",
    "5. G"
   ]
  },
  {
   "cell_type": "code",
   "execution_count": null,
   "metadata": {},
   "outputs": [],
   "source": [
    "dock_data.columns"
   ]
  },
  {
   "cell_type": "markdown",
   "metadata": {},
   "source": [
    "['provider', 'dockage', 'date', 'start_time', 'end_time', 'duration','boat_length']\n",
    "\n",
    "hours = start_time + (duration - 1)\n",
    "if hours > 1:\n",
    "    for i in range(hours):\n",
    "        slot = start_time + timedelta(i, hours)\n",
    "        \n",
    "        \n",
    "   ['provider', 'dockage', 'date', 'start_time', 'end_time', 'duration','boat_length']"
   ]
  }
 ],
 "metadata": {
  "kernelspec": {
   "display_name": "Python 3",
   "language": "python",
   "name": "python3"
  },
  "language_info": {
   "codemirror_mode": {
    "name": "ipython",
    "version": 3
   },
   "file_extension": ".py",
   "mimetype": "text/x-python",
   "name": "python",
   "nbconvert_exporter": "python",
   "pygments_lexer": "ipython3",
   "version": "3.7.4"
  },
  "toc": {
   "base_numbering": 1,
   "nav_menu": {},
   "number_sections": true,
   "sideBar": true,
   "skip_h1_title": false,
   "title_cell": "Table of Contents",
   "title_sidebar": "Contents",
   "toc_cell": false,
   "toc_position": {},
   "toc_section_display": true,
   "toc_window_display": false
  },
  "varInspector": {
   "cols": {
    "lenName": 16,
    "lenType": 16,
    "lenVar": 40
   },
   "kernels_config": {
    "python": {
     "delete_cmd_postfix": "",
     "delete_cmd_prefix": "del ",
     "library": "var_list.py",
     "varRefreshCmd": "print(var_dic_list())"
    },
    "r": {
     "delete_cmd_postfix": ") ",
     "delete_cmd_prefix": "rm(",
     "library": "var_list.r",
     "varRefreshCmd": "cat(var_dic_list()) "
    }
   },
   "types_to_exclude": [
    "module",
    "function",
    "builtin_function_or_method",
    "instance",
    "_Feature"
   ],
   "window_display": false
  }
 },
 "nbformat": 4,
 "nbformat_minor": 4
}

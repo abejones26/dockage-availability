{
 "cells": [
  {
   "cell_type": "code",
   "execution_count": 13,
   "metadata": {},
   "outputs": [
    {
     "data": {
      "text/markdown": [
       "<img src=\"DD-Vector-Updated-2.png\" align=\"center\"/>"
      ],
      "text/plain": [
       "<IPython.core.display.Markdown object>"
      ]
     },
     "metadata": {},
     "output_type": "display_data"
    },
    {
     "data": {
      "application/vnd.jupyter.widget-view+json": {
       "model_id": "3135b2eaef074df1b7db27d3ee7b9ec5",
       "version_major": 2,
       "version_minor": 0
      },
      "text/plain": [
       "HBox(children=(DatePicker(value=None, description='Select Date'), Button(description='Get Data', style=ButtonS…"
      ]
     },
     "metadata": {},
     "output_type": "display_data"
    }
   ],
   "source": [
    "from IPython.core.display import display, HTML\n",
    "from IPython.display import display, Markdown, clear_output\n",
    "import ipywidgets as widgets\n",
    "import os\n",
    "import pandas as pd\n",
    "from datetime import datetime as dt\n",
    "import time\n",
    "import plotly.express as px\n",
    "import mysql.connector\n",
    "from mysql.connector import Error\n",
    "import numpy as np\n",
    "import config\n",
    "# defining some widgets\n",
    "calendar = widgets.DatePicker(\n",
    "           description='Select Date')\n",
    "\n",
    "def get_data():\n",
    "    host = config.host\n",
    "    database = config.database\n",
    "    user = config.user\n",
    "    password = config.password\n",
    "    conn = mysql.connector.connect(\n",
    "        host=host, database=database, user=user, password=password)\n",
    "    appointments = \"SELECT \\\n",
    "                    wp_jet_appointments.ID, \\\n",
    "                    wp_jet_appointments.status, \\\n",
    "                    a.post_title as service, \\\n",
    "                    b.post_title as provider, \\\n",
    "                    d.meta_value as dockage, \\\n",
    "                    wp_jet_appointments.user_email, \\\n",
    "                    wp_jet_appointments.date, \\\n",
    "                    wp_jet_appointments.slot AS start_time, \\\n",
    "                    wp_jet_appointments.slot_end AS end_time, \\\n",
    "                    wp_jet_appointments.slot_end - wp_jet_appointments.slot as duration, \\\n",
    "                    wp_jet_appointments.order_id AS confirmation, \\\n",
    "                    u.display_name as captain, \\\n",
    "                    c.meta_value AS boat_length, \\\n",
    "                    wp_jet_appointments.phone, \\\n",
    "                    wp_jet_appointments.comments \\\n",
    "                FROM wp_jet_appointments \\\n",
    "                INNER JOIN wp_posts AS a ON wp_jet_appointments.service = a.ID \\\n",
    "                INNER JOIN wp_posts AS b ON wp_jet_appointments.provider = b.ID \\\n",
    "                INNER JOIN wp_postmeta AS d ON wp_jet_appointments.provider = d.post_id \\\n",
    "                INNER JOIN wp_users AS u ON wp_jet_appointments.user_id = u.ID \\\n",
    "                INNER JOIN wp_usermeta AS c ON u.ID = c.user_id \\\n",
    "                WHERE order_id > 0 \\\n",
    "                AND d.meta_key = 'dock_length' \\\n",
    "                AND c.meta_key = 'length' \\\n",
    "                ORDER BY date, start_time ASC\"\n",
    "\n",
    "    ap_data = pd.read_sql_query(appointments, conn)\n",
    "\n",
    "    ap_data.to_csv(\"assets/data/wp_jet_appointments.csv\", index=False)\n",
    "    ap = pd.read_csv(\"assets/data/wp_jet_appointments.csv\")\n",
    "\n",
    "    # Using a unix epoch time\n",
    "    ap[\"date\"] = pd.to_datetime(ap[\"date\"], unit='s')\n",
    "    ap[\"start_time\"] = pd.to_datetime(ap[\"start_time\"], unit='s').dt.time\n",
    "    ap[\"end_time\"] = pd.to_datetime(ap[\"end_time\"], unit='s').dt.time\n",
    "    ap[\"start_time\"] = ap[\"start_time\"].apply(lambda x: x.strftime('%I:%M %p'))\n",
    "    ap[\"end_time\"] = ap[\"end_time\"].apply(lambda x: x.strftime('%I:%M %p'))\n",
    "\n",
    "    dock_data = ap[[\"provider\", \"dockage\", \"date\", \"start_time\", \"end_time\", \"duration\", \"boat_length\"]]\n",
    "\n",
    "    times = []\n",
    "    for k, v in dock_data.iterrows():\n",
    "        time = pd.date_range(v.start_time, v.end_time, freq=\"60min\",).time\n",
    "        times.append([v.boat_length, v.provider, v.date, v.dockage, time])\n",
    "\n",
    "    df = pd.DataFrame(\n",
    "        times, columns=['boat_length', 'provider', 'date', 'dockage', 'hour'])\n",
    "    df['hour'] = df.hour.str[:-1]\n",
    "\n",
    "    df2 = df.explode(column='hour')\n",
    "    df2['hour'] = df2.hour.apply(lambda x: x.strftime('%H:%M %p'))\n",
    "    datestring =calendar.value.strftime('%Y-%m-%d')\n",
    "    df2 = df2[df2.date == calendar.value.strftime('%Y-%m-%d')]\n",
    "    df3 = pd.DataFrame(df2.groupby(['provider', 'hour'])['boat_length'].sum())\n",
    "    dockage_key = ap[['provider','dockage']].drop_duplicates().set_index('provider')\n",
    "    output = df3.join(dockage_key)\n",
    "    output['availability'] = output.dockage-output.boat_length\n",
    "    output['date'] = calendar.value.strftime('%Y-%m-%d')\n",
    "    return display(output[['date','boat_length','dockage','availability']])\n",
    "    \n",
    "\n",
    "# Handle Button\n",
    "button = widgets.Button(description='Get Data')\n",
    "out = widgets.Output()\n",
    "def on_button_clicked(_):\n",
    "      # \"linking function with output\"\n",
    "    with out:\n",
    "          # what happens when we press the button\n",
    "        clear_output()\n",
    "        get_data()\n",
    "info = Markdown(\"\"\"<img src=\"DD-Vector-Updated-2.png\" align=\"center\"/>\"\"\")\n",
    "display(info)\n",
    "# linking button and function together using a button's method\n",
    "button.on_click(on_button_clicked)\n",
    "# displaying button and its output together\n",
    "widgets.HBox([calendar,button,out])"
   ]
  },
  {
   "cell_type": "code",
   "execution_count": null,
   "metadata": {},
   "outputs": [],
   "source": []
  }
 ],
 "metadata": {
  "kernelspec": {
   "display_name": "Python 3",
   "language": "python",
   "name": "python3"
  },
  "language_info": {
   "codemirror_mode": {
    "name": "ipython",
    "version": 3
   },
   "file_extension": ".py",
   "mimetype": "text/x-python",
   "name": "python",
   "nbconvert_exporter": "python",
   "pygments_lexer": "ipython3",
   "version": "3.8.5"
  }
 },
 "nbformat": 4,
 "nbformat_minor": 4
}

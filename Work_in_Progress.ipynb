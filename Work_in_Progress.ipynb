{
 "cells": [
  {
   "cell_type": "code",
   "execution_count": 102,
   "metadata": {
    "jupyter": {
     "source_hidden": true
    }
   },
   "outputs": [
    {
     "data": {
      "text/markdown": [
       "<img src=\"assets/image/DD-Vector-Updated-2.png\" align=\"center\"/>"
      ],
      "text/plain": [
       "<IPython.core.display.Markdown object>"
      ]
     },
     "metadata": {},
     "output_type": "display_data"
    },
    {
     "data": {
      "application/vnd.jupyter.widget-view+json": {
       "model_id": "2b00e515fc634ff4874508365185ab00",
       "version_major": 2,
       "version_minor": 0
      },
      "text/plain": [
       "VBox(children=(HBox(children=(DatePicker(value=None, description='Select Date'), Button(description='Get Data'…"
      ]
     },
     "metadata": {},
     "output_type": "display_data"
    }
   ],
   "source": [
    "from IPython.core.display import display, HTML\n",
    "from IPython.display import display, Markdown, clear_output\n",
    "import ipywidgets as widgets\n",
    "import os\n",
    "import pandas as pd\n",
    "from datetime import datetime as dt\n",
    "import time\n",
    "import plotly.express as px\n",
    "import mysql.connector\n",
    "from mysql.connector import Error\n",
    "import numpy as np\n",
    "import config\n",
    "\n",
    "\n",
    "# defining some widgets\n",
    "calendar = widgets.DatePicker(\n",
    "           description='Select Date')\n",
    "\n",
    "remap = {'13:00 PM':'1:00 PM',\n",
    "'14:00 PM':'2:00 PM',\n",
    "'15:00 PM':'3:00 PM',\n",
    "'16:00 PM':'4:00 PM',\n",
    "'17:00 PM':'5:00 PM',\n",
    "'18:00 PM':'6:00 PM',\n",
    "'19:00 PM':'7:00 PM',\n",
    "'20:00 PM':'8:00 PM',\n",
    "'21:00 PM':'9:00 PM',\n",
    "'22:00 PM':'10:00 PM',\n",
    "'23:00 PM':'11:00 PM'}\n",
    "\n",
    "def get_data():\n",
    "    host = config.host\n",
    "    database = config.database\n",
    "    user = config.user\n",
    "    password = config.password\n",
    "    conn = mysql.connector.connect(\n",
    "        host=host, database=database, user=user, password=password)\n",
    "    appointments = \"SELECT \\\n",
    "                    wp_jet_appointments.ID, \\\n",
    "                    wp_jet_appointments.status, \\\n",
    "                    a.post_title as service, \\\n",
    "                    b.post_title as provider, \\\n",
    "                    d.meta_value as dockage, \\\n",
    "                    wp_jet_appointments.user_email, \\\n",
    "                    wp_jet_appointments.date, \\\n",
    "                    wp_jet_appointments.slot AS start_time, \\\n",
    "                    wp_jet_appointments.slot_end AS end_time, \\\n",
    "                    wp_jet_appointments.slot_end - wp_jet_appointments.slot as duration, \\\n",
    "                    wp_jet_appointments.order_id AS confirmation, \\\n",
    "                    u.display_name as captain, \\\n",
    "                    c.meta_value AS boat_length, \\\n",
    "                    wp_jet_appointments.phone, \\\n",
    "                    wp_jet_appointments.comments \\\n",
    "                FROM wp_jet_appointments \\\n",
    "                INNER JOIN wp_posts AS a ON wp_jet_appointments.service = a.ID \\\n",
    "                INNER JOIN wp_posts AS b ON wp_jet_appointments.provider = b.ID \\\n",
    "                INNER JOIN wp_postmeta AS d ON wp_jet_appointments.provider = d.post_id \\\n",
    "                INNER JOIN wp_users AS u ON wp_jet_appointments.user_id = u.ID \\\n",
    "                INNER JOIN wp_usermeta AS c ON u.ID = c.user_id \\\n",
    "                WHERE order_id > 0 \\\n",
    "                AND d.meta_key = 'dock_length' \\\n",
    "                AND c.meta_key = 'length' \\\n",
    "                ORDER BY date, start_time ASC\"\n",
    "\n",
    "    ap_data = pd.read_sql_query(appointments, conn)\n",
    "\n",
    "    ap_data.to_csv(\"assets/data/wp_jet_appointments.csv\", index=False)\n",
    "    ap = pd.read_csv(\"assets/data/wp_jet_appointments.csv\")\n",
    "\n",
    "    # Using a unix epoch time\n",
    "    ap[\"date\"] = pd.to_datetime(ap[\"date\"], unit='s')\n",
    "    ap[\"start_time\"] = pd.to_datetime(ap[\"start_time\"], unit='s').dt.time\n",
    "    ap[\"end_time\"] = pd.to_datetime(ap[\"end_time\"], unit='s').dt.time\n",
    "    ap[\"start_time\"] = ap[\"start_time\"].apply(lambda x: x.strftime('%I:%M %p'))\n",
    "    ap[\"end_time\"] = ap[\"end_time\"].apply(lambda x: x.strftime('%I:%M %p'))\n",
    "\n",
    "    dock_data = ap[[\"provider\", \"dockage\", \"date\", \"start_time\", \"end_time\", \"duration\", \"boat_length\"]]\n",
    "\n",
    "    times = []\n",
    "    for k, v in dock_data.iterrows():\n",
    "        time = pd.date_range(v.start_time, v.end_time, freq=\"60min\",).time\n",
    "        times.append([v.boat_length, v.provider, v.date, v.dockage, time])\n",
    "\n",
    "    df = pd.DataFrame(\n",
    "        times, columns=['boat_length', 'provider', 'date', 'dockage', 'hour'])\n",
    "    df['hour'] = df.hour.str[:-1]\n",
    "\n",
    "    df2 = df.explode(column='hour')\n",
    "    df2['hour'] = df2.hour.apply(lambda x: x.strftime('%H:%M %p'))\n",
    "    \n",
    "    if calendar.value is None:\n",
    "        datestring = dt.now().strftime('%Y-%m-%d')\n",
    "    else:\n",
    "        datestring =calendar.value.strftime('%Y-%m-%d')\n",
    "\n",
    "    df2 = df2[df2.date == calendar.value.strftime('%Y-%m-%d')]\n",
    "    df3 = pd.DataFrame(df2.groupby(['provider', 'hour'])['boat_length'].sum())\n",
    "    dockage_key = ap[['provider','dockage']].drop_duplicates().set_index('provider')\n",
    "    output = df3.join(dockage_key)\n",
    "    output['availability'] = output.dockage-output.boat_length\n",
    "    output['date'] = calendar.value.strftime('%Y-%m-%d')\n",
    "    output = output.reset_index(level=1).replace(remap)\n",
    "    return display(output[['hour','date','boat_length','dockage','availability']])\n",
    "\n",
    "# Handle Button\n",
    "button = widgets.Button(description='Get Data')\n",
    "out = widgets.Output()\n",
    "def on_button_clicked(_):\n",
    "      # \"linking function with output\"\n",
    "    with out:\n",
    "          # what happens when we press the button\n",
    "        clear_output()\n",
    "        get_data()\n",
    "info = Markdown(\"\"\"<img src=\"assets/image/DD-Vector-Updated-2.png\" align=\"center\"/>\"\"\")\n",
    "display(info)\n",
    "# linking button and function together using a button's method\n",
    "button.on_click(on_button_clicked)\n",
    "# displaying button and its output together\n",
    "box = widgets.HBox([calendar,button])\n",
    "widgets.VBox([box,out])"
   ]
  }
 ],
 "metadata": {
  "kernelspec": {
   "display_name": "Python 3",
   "language": "python",
   "name": "python3"
  },
  "language_info": {
   "codemirror_mode": {
    "name": "ipython",
    "version": 3
   },
   "file_extension": ".py",
   "mimetype": "text/x-python",
   "name": "python",
   "nbconvert_exporter": "python",
   "pygments_lexer": "ipython3",
   "version": "3.8.5"
  },
  "widgets": {
   "application/vnd.jupyter.widget-state+json": {
    "state": {
     "00c8aa11db4f4e9abea47a3f182e346d": {
      "model_module": "@jupyter-widgets/base",
      "model_module_version": "1.2.0",
      "model_name": "LayoutModel",
      "state": {}
     },
     "032ae0ccd46449cfa3ad07eee4965e44": {
      "model_module": "@jupyter-widgets/controls",
      "model_module_version": "1.5.0",
      "model_name": "VBoxModel",
      "state": {
       "children": [
        "IPY_MODEL_2c6336793dc448b3b5429d3e7a73d524",
        "IPY_MODEL_35426b5d8fda4419a92215592351be47",
        "IPY_MODEL_305a3a61b7f747c4ab91ded1ef87512c"
       ],
       "layout": "IPY_MODEL_c9e95a89278242769f53d757d67f0232"
      }
     },
     "04bafa842edb4142ac374bae7f7bf1bc": {
      "model_module": "@jupyter-widgets/base",
      "model_module_version": "1.2.0",
      "model_name": "LayoutModel",
      "state": {}
     },
     "052ca36413e247088c1d79633584c703": {
      "model_module": "@jupyter-widgets/output",
      "model_module_version": "1.0.0",
      "model_name": "OutputModel",
      "state": {
       "layout": "IPY_MODEL_2cbfbff01a904270b3c4fd2a6748305d"
      }
     },
     "05a5c90f8de44aa0a07e8914b1f59539": {
      "model_module": "@jupyter-widgets/controls",
      "model_module_version": "1.5.0",
      "model_name": "DatePickerModel",
      "state": {
       "description": "Select Date",
       "disabled": false,
       "layout": "IPY_MODEL_ce364a38557b4704af5ace3c06f2f1e5",
       "style": "IPY_MODEL_eda380fde5e3490da85eeec030babb10",
       "value": {
        "date": 7,
        "month": 7,
        "year": 2020
       }
      }
     },
     "05b1bc03015f4a3cb09ad7a782558ae4": {
      "model_module": "@jupyter-widgets/base",
      "model_module_version": "1.2.0",
      "model_name": "LayoutModel",
      "state": {}
     },
     "064086b963cf4076b3830c8c15935a3b": {
      "model_module": "@jupyter-widgets/controls",
      "model_module_version": "1.5.0",
      "model_name": "ButtonStyleModel",
      "state": {}
     },
     "09c58bd0d50344228199063edf1d323d": {
      "model_module": "@jupyter-widgets/base",
      "model_module_version": "1.2.0",
      "model_name": "LayoutModel",
      "state": {}
     },
     "0a9f957811d54f00a4f390064bcb2654": {
      "model_module": "@jupyter-widgets/controls",
      "model_module_version": "1.5.0",
      "model_name": "HBoxModel",
      "state": {
       "children": [
        "IPY_MODEL_d74fe5ad83084ec383a815b225a987ba",
        "IPY_MODEL_ca7447db7946407a8b797491c487476a",
        "IPY_MODEL_691e4815f8f7488f8d3b3eca7a9831e8"
       ],
       "layout": "IPY_MODEL_db19770d4f544fed87ca0ed3f82c025d"
      }
     },
     "0afef6158f8b458189954a985b0238f7": {
      "model_module": "@jupyter-widgets/controls",
      "model_module_version": "1.5.0",
      "model_name": "ButtonStyleModel",
      "state": {}
     },
     "0c68df8b1f944479ab6e35d73fc32f16": {
      "model_module": "@jupyter-widgets/base",
      "model_module_version": "1.2.0",
      "model_name": "LayoutModel",
      "state": {}
     },
     "0cebc4260ece4efeaf44f62363bf01e9": {
      "model_module": "@jupyter-widgets/controls",
      "model_module_version": "1.5.0",
      "model_name": "ButtonStyleModel",
      "state": {}
     },
     "0dd09f342c7d4c209e45d69c75b3c1b4": {
      "model_module": "@jupyter-widgets/base",
      "model_module_version": "1.2.0",
      "model_name": "LayoutModel",
      "state": {}
     },
     "0de9d4c7e87e4ca9adba0689c72bbf55": {
      "model_module": "@jupyter-widgets/base",
      "model_module_version": "1.2.0",
      "model_name": "LayoutModel",
      "state": {}
     },
     "0df4016ecfec4b349d6acdabed047fc0": {
      "model_module": "@jupyter-widgets/output",
      "model_module_version": "1.0.0",
      "model_name": "OutputModel",
      "state": {
       "layout": "IPY_MODEL_a026b7eeee21450da65838abcc0d3344",
       "outputs": [
        {
         "data": {
          "text/html": "<div>\n<style scoped>\n    .dataframe tbody tr th:only-of-type {\n        vertical-align: middle;\n    }\n\n    .dataframe tbody tr th {\n        vertical-align: top;\n    }\n\n    .dataframe thead th {\n        text-align: right;\n    }\n</style>\n<table border=\"1\" class=\"dataframe\">\n  <thead>\n    <tr style=\"text-align: right;\">\n      <th></th>\n      <th>hour</th>\n      <th>date</th>\n      <th>boat_length</th>\n      <th>dockage</th>\n      <th>availability</th>\n    </tr>\n    <tr>\n      <th>provider</th>\n      <th></th>\n      <th></th>\n      <th></th>\n      <th></th>\n      <th></th>\n    </tr>\n  </thead>\n  <tbody>\n    <tr>\n      <th>City Winery on the Chicago Riverwalk</th>\n      <td>11:00 AM</td>\n      <td>2020-07-25</td>\n      <td>67</td>\n      <td>210</td>\n      <td>143</td>\n    </tr>\n    <tr>\n      <th>City Winery on the Chicago Riverwalk</th>\n      <td>12:00 PM</td>\n      <td>2020-07-25</td>\n      <td>42</td>\n      <td>210</td>\n      <td>168</td>\n    </tr>\n    <tr>\n      <th>City Winery on the Chicago Riverwalk</th>\n      <td>1:00 PM</td>\n      <td>2020-07-25</td>\n      <td>42</td>\n      <td>210</td>\n      <td>168</td>\n    </tr>\n    <tr>\n      <th>City Winery on the Chicago Riverwalk</th>\n      <td>2:00 PM</td>\n      <td>2020-07-25</td>\n      <td>42</td>\n      <td>210</td>\n      <td>168</td>\n    </tr>\n    <tr>\n      <th>City Winery on the Chicago Riverwalk</th>\n      <td>5:00 PM</td>\n      <td>2020-07-25</td>\n      <td>50</td>\n      <td>210</td>\n      <td>160</td>\n    </tr>\n    <tr>\n      <th>City Winery on the Chicago Riverwalk</th>\n      <td>6:00 PM</td>\n      <td>2020-07-25</td>\n      <td>50</td>\n      <td>210</td>\n      <td>160</td>\n    </tr>\n    <tr>\n      <th>Pizzeria Portofino</th>\n      <td>1:00 PM</td>\n      <td>2020-07-25</td>\n      <td>50</td>\n      <td>120</td>\n      <td>70</td>\n    </tr>\n    <tr>\n      <th>Pizzeria Portofino</th>\n      <td>2:00 PM</td>\n      <td>2020-07-25</td>\n      <td>50</td>\n      <td>120</td>\n      <td>70</td>\n    </tr>\n    <tr>\n      <th>Pizzeria Portofino</th>\n      <td>7:00 PM</td>\n      <td>2020-07-25</td>\n      <td>36</td>\n      <td>120</td>\n      <td>84</td>\n    </tr>\n    <tr>\n      <th>Pizzeria Portofino</th>\n      <td>8:00 PM</td>\n      <td>2020-07-25</td>\n      <td>36</td>\n      <td>120</td>\n      <td>84</td>\n    </tr>\n  </tbody>\n</table>\n</div>",
          "text/plain": "                                          hour        date  boat_length  \\\nprovider                                                                  \nCity Winery on the Chicago Riverwalk  11:00 AM  2020-07-25           67   \nCity Winery on the Chicago Riverwalk  12:00 PM  2020-07-25           42   \nCity Winery on the Chicago Riverwalk   1:00 PM  2020-07-25           42   \nCity Winery on the Chicago Riverwalk   2:00 PM  2020-07-25           42   \nCity Winery on the Chicago Riverwalk   5:00 PM  2020-07-25           50   \nCity Winery on the Chicago Riverwalk   6:00 PM  2020-07-25           50   \nPizzeria Portofino                     1:00 PM  2020-07-25           50   \nPizzeria Portofino                     2:00 PM  2020-07-25           50   \nPizzeria Portofino                     7:00 PM  2020-07-25           36   \nPizzeria Portofino                     8:00 PM  2020-07-25           36   \n\n                                      dockage  availability  \nprovider                                                     \nCity Winery on the Chicago Riverwalk      210           143  \nCity Winery on the Chicago Riverwalk      210           168  \nCity Winery on the Chicago Riverwalk      210           168  \nCity Winery on the Chicago Riverwalk      210           168  \nCity Winery on the Chicago Riverwalk      210           160  \nCity Winery on the Chicago Riverwalk      210           160  \nPizzeria Portofino                        120            70  \nPizzeria Portofino                        120            70  \nPizzeria Portofino                        120            84  \nPizzeria Portofino                        120            84  "
         },
         "metadata": {},
         "output_type": "display_data"
        }
       ]
      }
     },
     "0e4dbbbc0ab340e7b75fe0ce4eaedd57": {
      "model_module": "@jupyter-widgets/base",
      "model_module_version": "1.2.0",
      "model_name": "LayoutModel",
      "state": {}
     },
     "0e603141863644b585e7ad3c21bfd681": {
      "model_module": "@jupyter-widgets/controls",
      "model_module_version": "1.5.0",
      "model_name": "DescriptionStyleModel",
      "state": {
       "description_width": ""
      }
     },
     "106953dfb62b4a74baa47fc65bdb9e4d": {
      "model_module": "@jupyter-widgets/controls",
      "model_module_version": "1.5.0",
      "model_name": "DescriptionStyleModel",
      "state": {
       "description_width": ""
      }
     },
     "10abec925e234f16a30ec392e5c4c3ce": {
      "model_module": "@jupyter-widgets/base",
      "model_module_version": "1.2.0",
      "model_name": "LayoutModel",
      "state": {}
     },
     "11186054814c45daba202ae5f3ed5cf1": {
      "model_module": "@jupyter-widgets/base",
      "model_module_version": "1.2.0",
      "model_name": "LayoutModel",
      "state": {}
     },
     "140a86f42d00458b963aac95845489a8": {
      "model_module": "@jupyter-widgets/base",
      "model_module_version": "1.2.0",
      "model_name": "LayoutModel",
      "state": {}
     },
     "1437656665cd44a3ade9a5a0f4873742": {
      "model_module": "@jupyter-widgets/base",
      "model_module_version": "1.2.0",
      "model_name": "LayoutModel",
      "state": {}
     },
     "149acd520a7b4538a6b3fec8cf943dfd": {
      "model_module": "@jupyter-widgets/controls",
      "model_module_version": "1.5.0",
      "model_name": "HBoxModel",
      "state": {
       "children": [
        "IPY_MODEL_a5157123f1784cb3836db4916a9701a5",
        "IPY_MODEL_5804b2e0b97a41cf862a0e7ae33cd6d1"
       ],
       "layout": "IPY_MODEL_dc8032e97d174a5a86107bf9d1a659ff"
      }
     },
     "17e58f89eeee40ec8ae7b1b591420d51": {
      "model_module": "@jupyter-widgets/controls",
      "model_module_version": "1.5.0",
      "model_name": "ButtonStyleModel",
      "state": {}
     },
     "18bcc282b83146068278d04b66225441": {
      "model_module": "@jupyter-widgets/controls",
      "model_module_version": "1.5.0",
      "model_name": "ButtonModel",
      "state": {
       "description": "Get Data",
       "layout": "IPY_MODEL_05b1bc03015f4a3cb09ad7a782558ae4",
       "style": "IPY_MODEL_0cebc4260ece4efeaf44f62363bf01e9"
      }
     },
     "190ecf6c89934a948701ac232b0a6801": {
      "model_module": "@jupyter-widgets/base",
      "model_module_version": "1.2.0",
      "model_name": "LayoutModel",
      "state": {}
     },
     "1ba70b95b1a54f678715239aa4b12cd7": {
      "model_module": "@jupyter-widgets/controls",
      "model_module_version": "1.5.0",
      "model_name": "ButtonModel",
      "state": {
       "description": "Get Data",
       "layout": "IPY_MODEL_3a37262eb78d4a7c83110b1b69cbeb93",
       "style": "IPY_MODEL_22e68132254a4eea9c6fc5eee53e3189"
      }
     },
     "1c51be0751a243b19e8219dd97dc15bb": {
      "model_module": "@jupyter-widgets/controls",
      "model_module_version": "1.5.0",
      "model_name": "ButtonStyleModel",
      "state": {}
     },
     "1d039fdad9d94e56bedf45987ffaef20": {
      "model_module": "@jupyter-widgets/base",
      "model_module_version": "1.2.0",
      "model_name": "LayoutModel",
      "state": {}
     },
     "1d34fcc407744fe6a61fe77544c69d60": {
      "model_module": "@jupyter-widgets/controls",
      "model_module_version": "1.5.0",
      "model_name": "HBoxModel",
      "state": {
       "children": [
        "IPY_MODEL_9bd2a4a0701d4bbf88b7d2629d7c5c78",
        "IPY_MODEL_6443a17b874e4c74b7eaec45134643b6",
        "IPY_MODEL_40279f496e854766bbce3f96a9c2c159"
       ],
       "layout": "IPY_MODEL_ebc280a9c1da41a9acac9a9d16a2623f"
      }
     },
     "2190ae251881475abcdd78acf864d3b8": {
      "model_module": "@jupyter-widgets/base",
      "model_module_version": "1.2.0",
      "model_name": "LayoutModel",
      "state": {}
     },
     "22e68132254a4eea9c6fc5eee53e3189": {
      "model_module": "@jupyter-widgets/controls",
      "model_module_version": "1.5.0",
      "model_name": "ButtonStyleModel",
      "state": {}
     },
     "2697d2d5de6848dcb693c10f36fcb5d8": {
      "model_module": "@jupyter-widgets/controls",
      "model_module_version": "1.5.0",
      "model_name": "ButtonStyleModel",
      "state": {}
     },
     "26fc0063dacb421e82b3697935b55dc1": {
      "model_module": "@jupyter-widgets/output",
      "model_module_version": "1.0.0",
      "model_name": "OutputModel",
      "state": {
       "layout": "IPY_MODEL_b4805cb986e8416b931807c15fa9e233"
      }
     },
     "29572cdf248a4d0391d587cae36ae6c3": {
      "model_module": "@jupyter-widgets/base",
      "model_module_version": "1.2.0",
      "model_name": "LayoutModel",
      "state": {}
     },
     "2a228ba8087d4610877af4de018e2531": {
      "model_module": "@jupyter-widgets/controls",
      "model_module_version": "1.5.0",
      "model_name": "ButtonModel",
      "state": {
       "description": "Get Data",
       "layout": "IPY_MODEL_e327d289af7d4f96bca366e9f611d9df",
       "style": "IPY_MODEL_0afef6158f8b458189954a985b0238f7"
      }
     },
     "2a6074128364471c8d7bd52f17bbfb2d": {
      "model_module": "@jupyter-widgets/controls",
      "model_module_version": "1.5.0",
      "model_name": "DatePickerModel",
      "state": {
       "description": "Select Date",
       "disabled": false,
       "layout": "IPY_MODEL_e08983d7beb34d15ba3bfd21236e862a",
       "style": "IPY_MODEL_c74ffbe94fea4f459cca73078db3132e",
       "value": {
        "date": 31,
        "month": 6,
        "year": 2020
       }
      }
     },
     "2b00e515fc634ff4874508365185ab00": {
      "model_module": "@jupyter-widgets/controls",
      "model_module_version": "1.5.0",
      "model_name": "VBoxModel",
      "state": {
       "children": [
        "IPY_MODEL_c5a7319be67541dfa62eee5992e3046b",
        "IPY_MODEL_503d9cb3f4df47a0926835a15faa84a6"
       ],
       "layout": "IPY_MODEL_3fa4bb82019c48da82c2d8da8a312e89"
      }
     },
     "2c6336793dc448b3b5429d3e7a73d524": {
      "model_module": "@jupyter-widgets/controls",
      "model_module_version": "1.5.0",
      "model_name": "DatePickerModel",
      "state": {
       "description": "Select Date",
       "disabled": false,
       "layout": "IPY_MODEL_8a3af5275c604319a1d760627b8ed010",
       "style": "IPY_MODEL_83182de1c7b8454698a9f7922b772bee",
       "value": {
        "date": 8,
        "month": 7,
        "year": 2020
       }
      }
     },
     "2cbfbff01a904270b3c4fd2a6748305d": {
      "model_module": "@jupyter-widgets/base",
      "model_module_version": "1.2.0",
      "model_name": "LayoutModel",
      "state": {}
     },
     "2d21d61dbda84d44b85efd835a29530b": {
      "model_module": "@jupyter-widgets/base",
      "model_module_version": "1.2.0",
      "model_name": "LayoutModel",
      "state": {}
     },
     "2e8100fb46f8497da71801bc1e439d1d": {
      "model_module": "@jupyter-widgets/controls",
      "model_module_version": "1.5.0",
      "model_name": "DescriptionStyleModel",
      "state": {
       "description_width": ""
      }
     },
     "2f2488d64b54419c86e24ee08528fd58": {
      "model_module": "@jupyter-widgets/base",
      "model_module_version": "1.2.0",
      "model_name": "LayoutModel",
      "state": {}
     },
     "305a3a61b7f747c4ab91ded1ef87512c": {
      "model_module": "@jupyter-widgets/output",
      "model_module_version": "1.0.0",
      "model_name": "OutputModel",
      "state": {
       "layout": "IPY_MODEL_594fc771739c43998cc0f70fc1506b21",
       "outputs": [
        {
         "data": {
          "text/html": "<div>\n<style scoped>\n    .dataframe tbody tr th:only-of-type {\n        vertical-align: middle;\n    }\n\n    .dataframe tbody tr th {\n        vertical-align: top;\n    }\n\n    .dataframe thead th {\n        text-align: right;\n    }\n</style>\n<table border=\"1\" class=\"dataframe\">\n  <thead>\n    <tr style=\"text-align: right;\">\n      <th></th>\n      <th>hour</th>\n      <th>date</th>\n      <th>boat_length</th>\n      <th>dockage</th>\n      <th>availability</th>\n    </tr>\n    <tr>\n      <th>provider</th>\n      <th></th>\n      <th></th>\n      <th></th>\n      <th></th>\n      <th></th>\n    </tr>\n  </thead>\n  <tbody>\n    <tr>\n      <th>City Winery on the Chicago Riverwalk</th>\n      <td>6:00 PM</td>\n      <td>2020-08-08</td>\n      <td>59</td>\n      <td>210</td>\n      <td>151</td>\n    </tr>\n    <tr>\n      <th>Jefferson Beach Yacht Sales</th>\n      <td>2:00 PM</td>\n      <td>2020-08-08</td>\n      <td>50</td>\n      <td>60</td>\n      <td>10</td>\n    </tr>\n    <tr>\n      <th>Pizzeria Portofino</th>\n      <td>7:00 PM</td>\n      <td>2020-08-08</td>\n      <td>35</td>\n      <td>120</td>\n      <td>85</td>\n    </tr>\n    <tr>\n      <th>Pizzeria Portofino</th>\n      <td>8:00 PM</td>\n      <td>2020-08-08</td>\n      <td>35</td>\n      <td>120</td>\n      <td>85</td>\n    </tr>\n  </tbody>\n</table>\n</div>",
          "text/plain": "                                         hour        date  boat_length  \\\nprovider                                                                 \nCity Winery on the Chicago Riverwalk  6:00 PM  2020-08-08           59   \nJefferson Beach Yacht Sales           2:00 PM  2020-08-08           50   \nPizzeria Portofino                    7:00 PM  2020-08-08           35   \nPizzeria Portofino                    8:00 PM  2020-08-08           35   \n\n                                      dockage  availability  \nprovider                                                     \nCity Winery on the Chicago Riverwalk      210           151  \nJefferson Beach Yacht Sales                60            10  \nPizzeria Portofino                        120            85  \nPizzeria Portofino                        120            85  "
         },
         "metadata": {},
         "output_type": "display_data"
        }
       ]
      }
     },
     "30c95275a89e41f89c5b941a720c7929": {
      "model_module": "@jupyter-widgets/base",
      "model_module_version": "1.2.0",
      "model_name": "LayoutModel",
      "state": {}
     },
     "31415dcbb4d14ec38ea4bdd052cdd06a": {
      "model_module": "@jupyter-widgets/controls",
      "model_module_version": "1.5.0",
      "model_name": "DatePickerModel",
      "state": {
       "description": "Select Date",
       "disabled": false,
       "layout": "IPY_MODEL_d4d01ae542f44df3b8db1111c57be9a3",
       "style": "IPY_MODEL_7dc9ba1666a149a19eecb2590e92a2af"
      }
     },
     "35426b5d8fda4419a92215592351be47": {
      "model_module": "@jupyter-widgets/controls",
      "model_module_version": "1.5.0",
      "model_name": "ButtonModel",
      "state": {
       "description": "Get Data",
       "layout": "IPY_MODEL_58db3258385144aeb7be9c962af2d3d6",
       "style": "IPY_MODEL_daf2b6b930cb481faa3f6b896360613d"
      }
     },
     "3749d25cd4564937bb4d519bed2f4db4": {
      "model_module": "@jupyter-widgets/controls",
      "model_module_version": "1.5.0",
      "model_name": "HBoxModel",
      "state": {
       "children": [
        "IPY_MODEL_f8d86b237ceb404aa41305890efe1d15",
        "IPY_MODEL_f7bf6e27c62946cd84ba9a5755a02c77"
       ],
       "layout": "IPY_MODEL_a21248092c414f999cec58935eb232d3"
      }
     },
     "374bf8ed2c5c46b1b4e458bc486b5d0b": {
      "model_module": "@jupyter-widgets/controls",
      "model_module_version": "1.5.0",
      "model_name": "DatePickerModel",
      "state": {
       "description": "Select Date",
       "disabled": false,
       "layout": "IPY_MODEL_6bc13ede84b44b25957f98f4d032918d",
       "style": "IPY_MODEL_5acbf240157b41529e521f8e0ed0d625",
       "value": {
        "date": 25,
        "month": 6,
        "year": 2020
       }
      }
     },
     "38c9aad90d274e1fae402d51390080c0": {
      "model_module": "@jupyter-widgets/base",
      "model_module_version": "1.2.0",
      "model_name": "LayoutModel",
      "state": {}
     },
     "396571a9c9ab4426bcb2cfcbfefdc599": {
      "model_module": "@jupyter-widgets/controls",
      "model_module_version": "1.5.0",
      "model_name": "VBoxModel",
      "state": {
       "children": [
        "IPY_MODEL_f4929420718847b7ae6e7e46c790456b",
        "IPY_MODEL_cc298d1e50cf45c88630c56fcc14ee63"
       ],
       "layout": "IPY_MODEL_00c8aa11db4f4e9abea47a3f182e346d"
      }
     },
     "3a37262eb78d4a7c83110b1b69cbeb93": {
      "model_module": "@jupyter-widgets/base",
      "model_module_version": "1.2.0",
      "model_name": "LayoutModel",
      "state": {}
     },
     "3b74ff3b40254f059d36a9bc89f6c1ae": {
      "model_module": "@jupyter-widgets/controls",
      "model_module_version": "1.5.0",
      "model_name": "DatePickerModel",
      "state": {
       "description": "Select Date",
       "disabled": false,
       "layout": "IPY_MODEL_f6cc41f577124e56ba103305cb6d206f",
       "style": "IPY_MODEL_90e8fc969aa94353b152cf6dad769739",
       "value": {
        "date": 5,
        "month": 7,
        "year": 2020
       }
      }
     },
     "3bc1222dd649491595dde76bf9432a87": {
      "model_module": "@jupyter-widgets/controls",
      "model_module_version": "1.5.0",
      "model_name": "HBoxModel",
      "state": {
       "children": [
        "IPY_MODEL_ab76fc39fbf541e0b9a5fd969a2269f4",
        "IPY_MODEL_2a228ba8087d4610877af4de018e2531",
        "IPY_MODEL_26fc0063dacb421e82b3697935b55dc1"
       ],
       "layout": "IPY_MODEL_1d039fdad9d94e56bedf45987ffaef20"
      }
     },
     "3d2e49850a5145d4b59675d330712351": {
      "model_module": "@jupyter-widgets/controls",
      "model_module_version": "1.5.0",
      "model_name": "DescriptionStyleModel",
      "state": {
       "description_width": ""
      }
     },
     "3fa4bb82019c48da82c2d8da8a312e89": {
      "model_module": "@jupyter-widgets/base",
      "model_module_version": "1.2.0",
      "model_name": "LayoutModel",
      "state": {}
     },
     "40279f496e854766bbce3f96a9c2c159": {
      "model_module": "@jupyter-widgets/output",
      "model_module_version": "1.0.0",
      "model_name": "OutputModel",
      "state": {
       "layout": "IPY_MODEL_2190ae251881475abcdd78acf864d3b8"
      }
     },
     "439331135f2c492790bbd3d92c0c96ec": {
      "model_module": "@jupyter-widgets/output",
      "model_module_version": "1.0.0",
      "model_name": "OutputModel",
      "state": {
       "layout": "IPY_MODEL_38c9aad90d274e1fae402d51390080c0",
       "outputs": [
        {
         "ename": "AttributeError",
         "evalue": "'NoneType' object has no attribute 'strftime'",
         "output_type": "error",
         "traceback": [
          "\u001b[0;31m---------------------------------------------------------------------------\u001b[0m",
          "\u001b[0;31mAttributeError\u001b[0m                            Traceback (most recent call last)",
          "\u001b[0;32m<ipython-input-49-0e1c5139a42f>\u001b[0m in \u001b[0;36mon_button_clicked\u001b[0;34m(_)\u001b[0m\n\u001b[1;32m    111\u001b[0m           \u001b[0;31m# what happens when we press the button\u001b[0m\u001b[0;34m\u001b[0m\u001b[0;34m\u001b[0m\u001b[0;34m\u001b[0m\u001b[0m\n\u001b[1;32m    112\u001b[0m         \u001b[0mclear_output\u001b[0m\u001b[0;34m(\u001b[0m\u001b[0;34m)\u001b[0m\u001b[0;34m\u001b[0m\u001b[0;34m\u001b[0m\u001b[0m\n\u001b[0;32m--> 113\u001b[0;31m         \u001b[0mget_data\u001b[0m\u001b[0;34m(\u001b[0m\u001b[0;34m)\u001b[0m\u001b[0;34m\u001b[0m\u001b[0;34m\u001b[0m\u001b[0m\n\u001b[0m\u001b[1;32m    114\u001b[0m \u001b[0minfo\u001b[0m \u001b[0;34m=\u001b[0m \u001b[0mMarkdown\u001b[0m\u001b[0;34m(\u001b[0m\u001b[0;34m\"\"\"<img src=\"assets/image/DD-Vector-Updated-2.png\" align=\"center\"/>\"\"\"\u001b[0m\u001b[0;34m)\u001b[0m\u001b[0;34m\u001b[0m\u001b[0;34m\u001b[0m\u001b[0m\n\u001b[1;32m    115\u001b[0m \u001b[0mdisplay\u001b[0m\u001b[0;34m(\u001b[0m\u001b[0minfo\u001b[0m\u001b[0;34m)\u001b[0m\u001b[0;34m\u001b[0m\u001b[0;34m\u001b[0m\u001b[0m\n",
          "\u001b[0;32m<ipython-input-49-0e1c5139a42f>\u001b[0m in \u001b[0;36mget_data\u001b[0;34m()\u001b[0m\n\u001b[1;32m     94\u001b[0m         \u001b[0mdatestring\u001b[0m \u001b[0;34m=\u001b[0m\u001b[0mcalendar\u001b[0m\u001b[0;34m.\u001b[0m\u001b[0mvalue\u001b[0m\u001b[0;34m.\u001b[0m\u001b[0mstrftime\u001b[0m\u001b[0;34m(\u001b[0m\u001b[0;34m'%Y-%m-%d'\u001b[0m\u001b[0;34m)\u001b[0m\u001b[0;34m\u001b[0m\u001b[0;34m\u001b[0m\u001b[0m\n\u001b[1;32m     95\u001b[0m \u001b[0;34m\u001b[0m\u001b[0m\n\u001b[0;32m---> 96\u001b[0;31m     \u001b[0mdf2\u001b[0m \u001b[0;34m=\u001b[0m \u001b[0mdf2\u001b[0m\u001b[0;34m[\u001b[0m\u001b[0mdf2\u001b[0m\u001b[0;34m.\u001b[0m\u001b[0mdate\u001b[0m \u001b[0;34m==\u001b[0m \u001b[0mcalendar\u001b[0m\u001b[0;34m.\u001b[0m\u001b[0mvalue\u001b[0m\u001b[0;34m.\u001b[0m\u001b[0mstrftime\u001b[0m\u001b[0;34m(\u001b[0m\u001b[0;34m'%Y-%m-%d'\u001b[0m\u001b[0;34m)\u001b[0m\u001b[0;34m]\u001b[0m\u001b[0;34m\u001b[0m\u001b[0;34m\u001b[0m\u001b[0m\n\u001b[0m\u001b[1;32m     97\u001b[0m     \u001b[0mdf3\u001b[0m \u001b[0;34m=\u001b[0m \u001b[0mpd\u001b[0m\u001b[0;34m.\u001b[0m\u001b[0mDataFrame\u001b[0m\u001b[0;34m(\u001b[0m\u001b[0mdf2\u001b[0m\u001b[0;34m.\u001b[0m\u001b[0mgroupby\u001b[0m\u001b[0;34m(\u001b[0m\u001b[0;34m[\u001b[0m\u001b[0;34m'provider'\u001b[0m\u001b[0;34m,\u001b[0m \u001b[0;34m'hour'\u001b[0m\u001b[0;34m]\u001b[0m\u001b[0;34m)\u001b[0m\u001b[0;34m[\u001b[0m\u001b[0;34m'boat_length'\u001b[0m\u001b[0;34m]\u001b[0m\u001b[0;34m.\u001b[0m\u001b[0msum\u001b[0m\u001b[0;34m(\u001b[0m\u001b[0;34m)\u001b[0m\u001b[0;34m)\u001b[0m\u001b[0;34m\u001b[0m\u001b[0;34m\u001b[0m\u001b[0m\n\u001b[1;32m     98\u001b[0m     \u001b[0mdockage_key\u001b[0m \u001b[0;34m=\u001b[0m \u001b[0map\u001b[0m\u001b[0;34m[\u001b[0m\u001b[0;34m[\u001b[0m\u001b[0;34m'provider'\u001b[0m\u001b[0;34m,\u001b[0m\u001b[0;34m'dockage'\u001b[0m\u001b[0;34m]\u001b[0m\u001b[0;34m]\u001b[0m\u001b[0;34m.\u001b[0m\u001b[0mdrop_duplicates\u001b[0m\u001b[0;34m(\u001b[0m\u001b[0;34m)\u001b[0m\u001b[0;34m.\u001b[0m\u001b[0mset_index\u001b[0m\u001b[0;34m(\u001b[0m\u001b[0;34m'provider'\u001b[0m\u001b[0;34m)\u001b[0m\u001b[0;34m\u001b[0m\u001b[0;34m\u001b[0m\u001b[0m\n",
          "\u001b[0;31mAttributeError\u001b[0m: 'NoneType' object has no attribute 'strftime'"
         ]
        }
       ]
      }
     },
     "43f9e6f3119a426d809415c9a9714d5b": {
      "model_module": "@jupyter-widgets/controls",
      "model_module_version": "1.5.0",
      "model_name": "DatePickerModel",
      "state": {
       "description": "Select Date",
       "disabled": false,
       "layout": "IPY_MODEL_8d9865a430a6457b96957bd4c61eb45b",
       "style": "IPY_MODEL_be7b01f56de84e5a8d9c63e1e6faebc2",
       "value": {
        "date": 5,
        "month": 7,
        "year": 2020
       }
      }
     },
     "4452d4f668274dcca1bd7e959e695c44": {
      "model_module": "@jupyter-widgets/controls",
      "model_module_version": "1.5.0",
      "model_name": "HBoxModel",
      "state": {
       "children": [
        "IPY_MODEL_05a5c90f8de44aa0a07e8914b1f59539",
        "IPY_MODEL_7e4092280d7848cab88df1b371ab8111"
       ],
       "layout": "IPY_MODEL_0c68df8b1f944479ab6e35d73fc32f16"
      }
     },
     "45c9f1475c134d0ea61ccf33c5064631": {
      "model_module": "@jupyter-widgets/controls",
      "model_module_version": "1.5.0",
      "model_name": "ButtonModel",
      "state": {
       "description": "Get Data",
       "layout": "IPY_MODEL_4ebed51a5f8644c5a3c28457f85bfe2d",
       "style": "IPY_MODEL_7e9e6e71f3894c5faa0cad5be7df92de"
      }
     },
     "47a29c3877c04aab97937ceffb972e09": {
      "model_module": "@jupyter-widgets/controls",
      "model_module_version": "1.5.0",
      "model_name": "DescriptionStyleModel",
      "state": {
       "description_width": ""
      }
     },
     "486ea97a29c3461e9603dac4bbc9ca29": {
      "model_module": "@jupyter-widgets/controls",
      "model_module_version": "1.5.0",
      "model_name": "HBoxModel",
      "state": {
       "children": [
        "IPY_MODEL_374bf8ed2c5c46b1b4e458bc486b5d0b",
        "IPY_MODEL_9f3947b095bd4e8291d5430980de7f97",
        "IPY_MODEL_0df4016ecfec4b349d6acdabed047fc0"
       ],
       "layout": "IPY_MODEL_7451d97669794b5899f106fc32e30bf2"
      }
     },
     "49854274c90c47babaa6d4fabbc07944": {
      "model_module": "@jupyter-widgets/base",
      "model_module_version": "1.2.0",
      "model_name": "LayoutModel",
      "state": {}
     },
     "49d95bdbe70946268777687f0203c861": {
      "model_module": "@jupyter-widgets/controls",
      "model_module_version": "1.5.0",
      "model_name": "DescriptionStyleModel",
      "state": {
       "description_width": ""
      }
     },
     "4c309a2969df430e94070f1a702494d1": {
      "model_module": "@jupyter-widgets/base",
      "model_module_version": "1.2.0",
      "model_name": "LayoutModel",
      "state": {}
     },
     "4d590f1e18f44265928e92b114c71500": {
      "model_module": "@jupyter-widgets/output",
      "model_module_version": "1.0.0",
      "model_name": "OutputModel",
      "state": {
       "layout": "IPY_MODEL_29572cdf248a4d0391d587cae36ae6c3",
       "outputs": [
        {
         "data": {
          "text/html": "<div>\n<style scoped>\n    .dataframe tbody tr th:only-of-type {\n        vertical-align: middle;\n    }\n\n    .dataframe tbody tr th {\n        vertical-align: top;\n    }\n\n    .dataframe thead th {\n        text-align: right;\n    }\n</style>\n<table border=\"1\" class=\"dataframe\">\n  <thead>\n    <tr style=\"text-align: right;\">\n      <th></th>\n      <th>hour</th>\n      <th>date</th>\n      <th>boat_length</th>\n      <th>dockage</th>\n      <th>availability</th>\n    </tr>\n    <tr>\n      <th>provider</th>\n      <th></th>\n      <th></th>\n      <th></th>\n      <th></th>\n      <th></th>\n    </tr>\n  </thead>\n  <tbody>\n    <tr>\n      <th>City Winery on the Chicago Riverwalk</th>\n      <td>5:00 PM</td>\n      <td>2020-08-05</td>\n      <td>119</td>\n      <td>210</td>\n      <td>91</td>\n    </tr>\n    <tr>\n      <th>City Winery on the Chicago Riverwalk</th>\n      <td>6:00 PM</td>\n      <td>2020-08-05</td>\n      <td>148</td>\n      <td>210</td>\n      <td>62</td>\n    </tr>\n    <tr>\n      <th>City Winery on the Chicago Riverwalk</th>\n      <td>7:00 PM</td>\n      <td>2020-08-05</td>\n      <td>34</td>\n      <td>210</td>\n      <td>176</td>\n    </tr>\n    <tr>\n      <th>Pizzeria Portofino</th>\n      <td>7:00 PM</td>\n      <td>2020-08-05</td>\n      <td>89</td>\n      <td>120</td>\n      <td>31</td>\n    </tr>\n    <tr>\n      <th>Pizzeria Portofino</th>\n      <td>8:00 PM</td>\n      <td>2020-08-05</td>\n      <td>89</td>\n      <td>120</td>\n      <td>31</td>\n    </tr>\n  </tbody>\n</table>\n</div>",
          "text/plain": "                                         hour        date  boat_length  \\\nprovider                                                                 \nCity Winery on the Chicago Riverwalk  5:00 PM  2020-08-05          119   \nCity Winery on the Chicago Riverwalk  6:00 PM  2020-08-05          148   \nCity Winery on the Chicago Riverwalk  7:00 PM  2020-08-05           34   \nPizzeria Portofino                    7:00 PM  2020-08-05           89   \nPizzeria Portofino                    8:00 PM  2020-08-05           89   \n\n                                      dockage  availability  \nprovider                                                     \nCity Winery on the Chicago Riverwalk      210            91  \nCity Winery on the Chicago Riverwalk      210            62  \nCity Winery on the Chicago Riverwalk      210           176  \nPizzeria Portofino                        120            31  \nPizzeria Portofino                        120            31  "
         },
         "metadata": {},
         "output_type": "display_data"
        }
       ]
      }
     },
     "4ebed51a5f8644c5a3c28457f85bfe2d": {
      "model_module": "@jupyter-widgets/base",
      "model_module_version": "1.2.0",
      "model_name": "LayoutModel",
      "state": {}
     },
     "503d9cb3f4df47a0926835a15faa84a6": {
      "model_module": "@jupyter-widgets/output",
      "model_module_version": "1.0.0",
      "model_name": "OutputModel",
      "state": {
       "layout": "IPY_MODEL_11186054814c45daba202ae5f3ed5cf1",
       "outputs": [
        {
         "data": {
          "text/html": "<div>\n<style scoped>\n    .dataframe tbody tr th:only-of-type {\n        vertical-align: middle;\n    }\n\n    .dataframe tbody tr th {\n        vertical-align: top;\n    }\n\n    .dataframe thead th {\n        text-align: right;\n    }\n</style>\n<table border=\"1\" class=\"dataframe\">\n  <thead>\n    <tr style=\"text-align: right;\">\n      <th></th>\n      <th>hour</th>\n      <th>date</th>\n      <th>boat_length</th>\n      <th>dockage</th>\n      <th>availability</th>\n    </tr>\n    <tr>\n      <th>provider</th>\n      <th></th>\n      <th></th>\n      <th></th>\n      <th></th>\n      <th></th>\n    </tr>\n  </thead>\n  <tbody>\n    <tr>\n      <th>City Winery on the Chicago Riverwalk</th>\n      <td>5:00 PM</td>\n      <td>2020-07-31</td>\n      <td>33</td>\n      <td>210</td>\n      <td>177</td>\n    </tr>\n    <tr>\n      <th>City Winery on the Chicago Riverwalk</th>\n      <td>6:00 PM</td>\n      <td>2020-07-31</td>\n      <td>33</td>\n      <td>210</td>\n      <td>177</td>\n    </tr>\n    <tr>\n      <th>City Winery on the Chicago Riverwalk</th>\n      <td>7:00 PM</td>\n      <td>2020-07-31</td>\n      <td>33</td>\n      <td>210</td>\n      <td>177</td>\n    </tr>\n    <tr>\n      <th>City Winery on the Chicago Riverwalk</th>\n      <td>8:00 PM</td>\n      <td>2020-07-31</td>\n      <td>29</td>\n      <td>210</td>\n      <td>181</td>\n    </tr>\n    <tr>\n      <th>Pizzeria Portofino</th>\n      <td>5:00 PM</td>\n      <td>2020-07-31</td>\n      <td>58</td>\n      <td>120</td>\n      <td>62</td>\n    </tr>\n    <tr>\n      <th>Pizzeria Portofino</th>\n      <td>6:00 PM</td>\n      <td>2020-07-31</td>\n      <td>58</td>\n      <td>120</td>\n      <td>62</td>\n    </tr>\n    <tr>\n      <th>Pizzeria Portofino</th>\n      <td>7:00 PM</td>\n      <td>2020-07-31</td>\n      <td>45</td>\n      <td>120</td>\n      <td>75</td>\n    </tr>\n  </tbody>\n</table>\n</div>",
          "text/plain": "                                         hour        date  boat_length  \\\nprovider                                                                 \nCity Winery on the Chicago Riverwalk  5:00 PM  2020-07-31           33   \nCity Winery on the Chicago Riverwalk  6:00 PM  2020-07-31           33   \nCity Winery on the Chicago Riverwalk  7:00 PM  2020-07-31           33   \nCity Winery on the Chicago Riverwalk  8:00 PM  2020-07-31           29   \nPizzeria Portofino                    5:00 PM  2020-07-31           58   \nPizzeria Portofino                    6:00 PM  2020-07-31           58   \nPizzeria Portofino                    7:00 PM  2020-07-31           45   \n\n                                      dockage  availability  \nprovider                                                     \nCity Winery on the Chicago Riverwalk      210           177  \nCity Winery on the Chicago Riverwalk      210           177  \nCity Winery on the Chicago Riverwalk      210           177  \nCity Winery on the Chicago Riverwalk      210           181  \nPizzeria Portofino                        120            62  \nPizzeria Portofino                        120            62  \nPizzeria Portofino                        120            75  "
         },
         "metadata": {},
         "output_type": "display_data"
        }
       ]
      }
     },
     "547ae3f1db81499faa8c89dcb0fcece2": {
      "model_module": "@jupyter-widgets/controls",
      "model_module_version": "1.5.0",
      "model_name": "HBoxModel",
      "state": {
       "children": [
        "IPY_MODEL_3b74ff3b40254f059d36a9bc89f6c1ae",
        "IPY_MODEL_b7932c142627489e8df6fcc5cbad25dc",
        "IPY_MODEL_4d590f1e18f44265928e92b114c71500"
       ],
       "layout": "IPY_MODEL_7556346f84e9495c8ddaeb34eed6acd4"
      }
     },
     "55dbd3a4c8074cb0b458ac55304db1d2": {
      "model_module": "@jupyter-widgets/controls",
      "model_module_version": "1.5.0",
      "model_name": "ButtonModel",
      "state": {
       "description": "Get Data",
       "layout": "IPY_MODEL_da22ad769ad34c54bc129ccb0e809bbb",
       "style": "IPY_MODEL_b1269f017af5421fb20d04614b500208"
      }
     },
     "57d055ff68794a12ba9654ab663e1b05": {
      "model_module": "@jupyter-widgets/controls",
      "model_module_version": "1.5.0",
      "model_name": "DescriptionStyleModel",
      "state": {
       "description_width": ""
      }
     },
     "5804b2e0b97a41cf862a0e7ae33cd6d1": {
      "model_module": "@jupyter-widgets/controls",
      "model_module_version": "1.5.0",
      "model_name": "ButtonModel",
      "state": {
       "description": "Get Data",
       "layout": "IPY_MODEL_8e7db3b80e9c40359d74fa4830ad2fc4",
       "style": "IPY_MODEL_ccea35acaf374fb1ba3a8786d8e74741"
      }
     },
     "58a0307a8e824a9b9bf0844aba92c83d": {
      "model_module": "@jupyter-widgets/base",
      "model_module_version": "1.2.0",
      "model_name": "LayoutModel",
      "state": {}
     },
     "58db3258385144aeb7be9c962af2d3d6": {
      "model_module": "@jupyter-widgets/base",
      "model_module_version": "1.2.0",
      "model_name": "LayoutModel",
      "state": {}
     },
     "594fc771739c43998cc0f70fc1506b21": {
      "model_module": "@jupyter-widgets/base",
      "model_module_version": "1.2.0",
      "model_name": "LayoutModel",
      "state": {}
     },
     "5965bee703d24efab6f28da7fa871150": {
      "model_module": "@jupyter-widgets/output",
      "model_module_version": "1.0.0",
      "model_name": "OutputModel",
      "state": {
       "layout": "IPY_MODEL_58a0307a8e824a9b9bf0844aba92c83d",
       "outputs": [
        {
         "data": {
          "text/html": "<div>\n<style scoped>\n    .dataframe tbody tr th:only-of-type {\n        vertical-align: middle;\n    }\n\n    .dataframe tbody tr th {\n        vertical-align: top;\n    }\n\n    .dataframe thead th {\n        text-align: right;\n    }\n</style>\n<table border=\"1\" class=\"dataframe\">\n  <thead>\n    <tr style=\"text-align: right;\">\n      <th></th>\n      <th></th>\n      <th>date</th>\n      <th>boat_length</th>\n      <th>dockage</th>\n      <th>availability</th>\n    </tr>\n    <tr>\n      <th>provider</th>\n      <th>hour</th>\n      <th></th>\n      <th></th>\n      <th></th>\n      <th></th>\n    </tr>\n  </thead>\n  <tbody>\n    <tr>\n      <th rowspan=\"3\" valign=\"top\">City Winery on the Chicago Riverwalk</th>\n      <th>17:00 PM</th>\n      <td>2020-08-05</td>\n      <td>119</td>\n      <td>210</td>\n      <td>91</td>\n    </tr>\n    <tr>\n      <th>18:00 PM</th>\n      <td>2020-08-05</td>\n      <td>148</td>\n      <td>210</td>\n      <td>62</td>\n    </tr>\n    <tr>\n      <th>19:00 PM</th>\n      <td>2020-08-05</td>\n      <td>34</td>\n      <td>210</td>\n      <td>176</td>\n    </tr>\n    <tr>\n      <th rowspan=\"2\" valign=\"top\">Pizzeria Portofino</th>\n      <th>19:00 PM</th>\n      <td>2020-08-05</td>\n      <td>89</td>\n      <td>120</td>\n      <td>31</td>\n    </tr>\n    <tr>\n      <th>20:00 PM</th>\n      <td>2020-08-05</td>\n      <td>89</td>\n      <td>120</td>\n      <td>31</td>\n    </tr>\n  </tbody>\n</table>\n</div>",
          "text/plain": "                                                     date  boat_length  \\\nprovider                             hour                                \nCity Winery on the Chicago Riverwalk 17:00 PM  2020-08-05          119   \n                                     18:00 PM  2020-08-05          148   \n                                     19:00 PM  2020-08-05           34   \nPizzeria Portofino                   19:00 PM  2020-08-05           89   \n                                     20:00 PM  2020-08-05           89   \n\n                                               dockage  availability  \nprovider                             hour                             \nCity Winery on the Chicago Riverwalk 17:00 PM      210            91  \n                                     18:00 PM      210            62  \n                                     19:00 PM      210           176  \nPizzeria Portofino                   19:00 PM      120            31  \n                                     20:00 PM      120            31  "
         },
         "metadata": {},
         "output_type": "display_data"
        }
       ]
      }
     },
     "59d24cb6c371413bac2a46f0f33bb145": {
      "model_module": "@jupyter-widgets/controls",
      "model_module_version": "1.5.0",
      "model_name": "DescriptionStyleModel",
      "state": {
       "description_width": ""
      }
     },
     "59d5640b9bde497c94b71a6ad5f2a7b1": {
      "model_module": "@jupyter-widgets/controls",
      "model_module_version": "1.5.0",
      "model_name": "DescriptionStyleModel",
      "state": {
       "description_width": ""
      }
     },
     "5a0fb175de264d29ba106ddea84f5ce0": {
      "model_module": "@jupyter-widgets/controls",
      "model_module_version": "1.5.0",
      "model_name": "DescriptionStyleModel",
      "state": {
       "description_width": ""
      }
     },
     "5acbf240157b41529e521f8e0ed0d625": {
      "model_module": "@jupyter-widgets/controls",
      "model_module_version": "1.5.0",
      "model_name": "DescriptionStyleModel",
      "state": {
       "description_width": ""
      }
     },
     "5c1452d2b89d4ec6859f9602cff13b98": {
      "model_module": "@jupyter-widgets/controls",
      "model_module_version": "1.5.0",
      "model_name": "DatePickerModel",
      "state": {
       "description": "Select Date",
       "disabled": false,
       "layout": "IPY_MODEL_c3cc7d4386fc4e7cb863ba9d96951d60",
       "style": "IPY_MODEL_65773bb593d94b59b44f48781a87bbe5",
       "value": {
        "date": 5,
        "month": 7,
        "year": 2020
       }
      }
     },
     "5f7b3c7026af4a4e844560f69970fd6b": {
      "model_module": "@jupyter-widgets/base",
      "model_module_version": "1.2.0",
      "model_name": "LayoutModel",
      "state": {}
     },
     "61bcdf8478c74180abeb62d4bd9d6be7": {
      "model_module": "@jupyter-widgets/controls",
      "model_module_version": "1.5.0",
      "model_name": "ButtonModel",
      "state": {
       "description": "Get Data",
       "layout": "IPY_MODEL_49854274c90c47babaa6d4fabbc07944",
       "style": "IPY_MODEL_1c51be0751a243b19e8219dd97dc15bb"
      }
     },
     "627e39dbc919466088a6a5741fe553fa": {
      "model_module": "@jupyter-widgets/controls",
      "model_module_version": "1.5.0",
      "model_name": "HBoxModel",
      "state": {
       "children": [
        "IPY_MODEL_f6f41f96a68043f6859d950820b6343b",
        "IPY_MODEL_8aa04e79c95141e5896df287b13bd1ce",
        "IPY_MODEL_f9a51df0e7be40bbba7b35abc28d6807"
       ],
       "layout": "IPY_MODEL_09c58bd0d50344228199063edf1d323d"
      }
     },
     "6443a17b874e4c74b7eaec45134643b6": {
      "model_module": "@jupyter-widgets/controls",
      "model_module_version": "1.5.0",
      "model_name": "ButtonModel",
      "state": {
       "description": "Get Data",
       "layout": "IPY_MODEL_f224a65abef7454b9bc87d097cd1aa29",
       "style": "IPY_MODEL_d995f6fec2cc4fe0941d620a1a674fe1"
      }
     },
     "65773bb593d94b59b44f48781a87bbe5": {
      "model_module": "@jupyter-widgets/controls",
      "model_module_version": "1.5.0",
      "model_name": "DescriptionStyleModel",
      "state": {
       "description_width": ""
      }
     },
     "65b322b3b81d4e6da17dc44f46c30252": {
      "model_module": "@jupyter-widgets/base",
      "model_module_version": "1.2.0",
      "model_name": "LayoutModel",
      "state": {}
     },
     "691e4815f8f7488f8d3b3eca7a9831e8": {
      "model_module": "@jupyter-widgets/output",
      "model_module_version": "1.0.0",
      "model_name": "OutputModel",
      "state": {
       "layout": "IPY_MODEL_d266efacc6e64a9d91b64f26b5f61ee0",
       "outputs": [
        {
         "data": {
          "text/html": "<div>\n<style scoped>\n    .dataframe tbody tr th:only-of-type {\n        vertical-align: middle;\n    }\n\n    .dataframe tbody tr th {\n        vertical-align: top;\n    }\n\n    .dataframe thead th {\n        text-align: right;\n    }\n</style>\n<table border=\"1\" class=\"dataframe\">\n  <thead>\n    <tr style=\"text-align: right;\">\n      <th></th>\n      <th></th>\n      <th>date</th>\n      <th>boat_length</th>\n      <th>dockage</th>\n      <th>availability</th>\n    </tr>\n    <tr>\n      <th>provider</th>\n      <th>hour</th>\n      <th></th>\n      <th></th>\n      <th></th>\n      <th></th>\n    </tr>\n  </thead>\n  <tbody>\n    <tr>\n      <th rowspan=\"3\" valign=\"top\">City Winery on the Chicago Riverwalk</th>\n      <th>17:00 PM</th>\n      <td>2020-08-05</td>\n      <td>119</td>\n      <td>210</td>\n      <td>91</td>\n    </tr>\n    <tr>\n      <th>18:00 PM</th>\n      <td>2020-08-05</td>\n      <td>148</td>\n      <td>210</td>\n      <td>62</td>\n    </tr>\n    <tr>\n      <th>19:00 PM</th>\n      <td>2020-08-05</td>\n      <td>34</td>\n      <td>210</td>\n      <td>176</td>\n    </tr>\n    <tr>\n      <th rowspan=\"2\" valign=\"top\">Pizzeria Portofino</th>\n      <th>19:00 PM</th>\n      <td>2020-08-05</td>\n      <td>89</td>\n      <td>120</td>\n      <td>31</td>\n    </tr>\n    <tr>\n      <th>20:00 PM</th>\n      <td>2020-08-05</td>\n      <td>89</td>\n      <td>120</td>\n      <td>31</td>\n    </tr>\n  </tbody>\n</table>\n</div>",
          "text/plain": "                                                     date  boat_length  \\\nprovider                             hour                                \nCity Winery on the Chicago Riverwalk 17:00 PM  2020-08-05          119   \n                                     18:00 PM  2020-08-05          148   \n                                     19:00 PM  2020-08-05           34   \nPizzeria Portofino                   19:00 PM  2020-08-05           89   \n                                     20:00 PM  2020-08-05           89   \n\n                                               dockage  availability  \nprovider                             hour                             \nCity Winery on the Chicago Riverwalk 17:00 PM      210            91  \n                                     18:00 PM      210            62  \n                                     19:00 PM      210           176  \nPizzeria Portofino                   19:00 PM      120            31  \n                                     20:00 PM      120            31  "
         },
         "metadata": {},
         "output_type": "display_data"
        }
       ]
      }
     },
     "6bc13ede84b44b25957f98f4d032918d": {
      "model_module": "@jupyter-widgets/base",
      "model_module_version": "1.2.0",
      "model_name": "LayoutModel",
      "state": {}
     },
     "6c9c8cf5c57642938c3f6e389a9d08aa": {
      "model_module": "@jupyter-widgets/controls",
      "model_module_version": "1.5.0",
      "model_name": "DatePickerModel",
      "state": {
       "description": "Select Date",
       "disabled": false,
       "layout": "IPY_MODEL_0e4dbbbc0ab340e7b75fe0ce4eaedd57",
       "style": "IPY_MODEL_2e8100fb46f8497da71801bc1e439d1d"
      }
     },
     "6ebe0c78ec1846dc88680ef6c5f1701d": {
      "model_module": "@jupyter-widgets/controls",
      "model_module_version": "1.5.0",
      "model_name": "DatePickerModel",
      "state": {
       "description": "Select Date",
       "disabled": false,
       "layout": "IPY_MODEL_906822664126484283f8e38d44dc7473",
       "style": "IPY_MODEL_49d95bdbe70946268777687f0203c861"
      }
     },
     "705e2a3f232b47efac9cb2fdab863bc9": {
      "model_module": "@jupyter-widgets/controls",
      "model_module_version": "1.5.0",
      "model_name": "ButtonStyleModel",
      "state": {}
     },
     "706ac461e83446989db7f60c68cd23ac": {
      "model_module": "@jupyter-widgets/base",
      "model_module_version": "1.2.0",
      "model_name": "LayoutModel",
      "state": {}
     },
     "728cb881c15343c9aabbed6eb42b67b4": {
      "model_module": "@jupyter-widgets/base",
      "model_module_version": "1.2.0",
      "model_name": "LayoutModel",
      "state": {}
     },
     "72ab49eeade74da0bd34dcab27fac119": {
      "model_module": "@jupyter-widgets/base",
      "model_module_version": "1.2.0",
      "model_name": "LayoutModel",
      "state": {}
     },
     "737d4eeee9394b64b0a1434a0d122a77": {
      "model_module": "@jupyter-widgets/base",
      "model_module_version": "1.2.0",
      "model_name": "LayoutModel",
      "state": {}
     },
     "74108a48c802400798ff40d4e4c936f5": {
      "model_module": "@jupyter-widgets/output",
      "model_module_version": "1.0.0",
      "model_name": "OutputModel",
      "state": {
       "layout": "IPY_MODEL_d48dd9afcc3a48cfb50c9ae2008ef3c3"
      }
     },
     "7451d97669794b5899f106fc32e30bf2": {
      "model_module": "@jupyter-widgets/base",
      "model_module_version": "1.2.0",
      "model_name": "LayoutModel",
      "state": {}
     },
     "7556346f84e9495c8ddaeb34eed6acd4": {
      "model_module": "@jupyter-widgets/base",
      "model_module_version": "1.2.0",
      "model_name": "LayoutModel",
      "state": {}
     },
     "76d99c515c1c4f6a902f9f4e7a952d80": {
      "model_module": "@jupyter-widgets/controls",
      "model_module_version": "1.5.0",
      "model_name": "HBoxModel",
      "state": {
       "children": [
        "IPY_MODEL_5c1452d2b89d4ec6859f9602cff13b98",
        "IPY_MODEL_61bcdf8478c74180abeb62d4bd9d6be7",
        "IPY_MODEL_f4e984c1bd6941b79ca53380a74dc0fb"
       ],
       "layout": "IPY_MODEL_90c1cec25693428d9d67b6f48c6185b0"
      }
     },
     "7d3f1c04c7744bcfa4e8d273d014d89f": {
      "model_module": "@jupyter-widgets/controls",
      "model_module_version": "1.5.0",
      "model_name": "HBoxModel",
      "state": {
       "children": [
        "IPY_MODEL_43f9e6f3119a426d809415c9a9714d5b",
        "IPY_MODEL_ee83b3f799594032b26e2db2951bac36",
        "IPY_MODEL_f519484a23d64bd4a32c61021ff94b96"
       ],
       "layout": "IPY_MODEL_dfc9f612c13c4a81986e6c3b7231d8f9"
      }
     },
     "7dc9ba1666a149a19eecb2590e92a2af": {
      "model_module": "@jupyter-widgets/controls",
      "model_module_version": "1.5.0",
      "model_name": "DescriptionStyleModel",
      "state": {
       "description_width": ""
      }
     },
     "7dddb1259fb64e5c9c4c8a0cf87b1198": {
      "model_module": "@jupyter-widgets/base",
      "model_module_version": "1.2.0",
      "model_name": "LayoutModel",
      "state": {}
     },
     "7e4092280d7848cab88df1b371ab8111": {
      "model_module": "@jupyter-widgets/controls",
      "model_module_version": "1.5.0",
      "model_name": "ButtonModel",
      "state": {
       "description": "Get Data",
       "layout": "IPY_MODEL_86e86b0d8a6f44f4a41977788e01df6e",
       "style": "IPY_MODEL_c259acea134543cd9df2b5b11704e29b"
      }
     },
     "7e487ac1fe3347369d2952620dac436e": {
      "model_module": "@jupyter-widgets/controls",
      "model_module_version": "1.5.0",
      "model_name": "ButtonStyleModel",
      "state": {}
     },
     "7e9e6e71f3894c5faa0cad5be7df92de": {
      "model_module": "@jupyter-widgets/controls",
      "model_module_version": "1.5.0",
      "model_name": "ButtonStyleModel",
      "state": {}
     },
     "7ebf77f32db545b18607d789ebf5db77": {
      "model_module": "@jupyter-widgets/controls",
      "model_module_version": "1.5.0",
      "model_name": "HBoxModel",
      "state": {
       "children": [
        "IPY_MODEL_6ebe0c78ec1846dc88680ef6c5f1701d",
        "IPY_MODEL_df5058d5a40845578d620ff7bc12ae81"
       ],
       "layout": "IPY_MODEL_c2abf955b9f641a9ada6550b9a2347a7"
      }
     },
     "80b37631f55648bfaf0679a08da88f78": {
      "model_module": "@jupyter-widgets/controls",
      "model_module_version": "1.5.0",
      "model_name": "DescriptionStyleModel",
      "state": {
       "description_width": ""
      }
     },
     "8166bdcfae9f47ea9261ab749964bf63": {
      "model_module": "@jupyter-widgets/base",
      "model_module_version": "1.2.0",
      "model_name": "LayoutModel",
      "state": {}
     },
     "83182de1c7b8454698a9f7922b772bee": {
      "model_module": "@jupyter-widgets/controls",
      "model_module_version": "1.5.0",
      "model_name": "DescriptionStyleModel",
      "state": {
       "description_width": ""
      }
     },
     "85da065ff6d34085bc8ba73ed1e77cdd": {
      "model_module": "@jupyter-widgets/base",
      "model_module_version": "1.2.0",
      "model_name": "LayoutModel",
      "state": {}
     },
     "86e86b0d8a6f44f4a41977788e01df6e": {
      "model_module": "@jupyter-widgets/base",
      "model_module_version": "1.2.0",
      "model_name": "LayoutModel",
      "state": {}
     },
     "88d80a7cf0684d1c9b9f4d60626bf0bb": {
      "model_module": "@jupyter-widgets/controls",
      "model_module_version": "1.5.0",
      "model_name": "ButtonStyleModel",
      "state": {}
     },
     "8a3af5275c604319a1d760627b8ed010": {
      "model_module": "@jupyter-widgets/base",
      "model_module_version": "1.2.0",
      "model_name": "LayoutModel",
      "state": {}
     },
     "8aa04e79c95141e5896df287b13bd1ce": {
      "model_module": "@jupyter-widgets/controls",
      "model_module_version": "1.5.0",
      "model_name": "ButtonModel",
      "state": {
       "description": "Get Data",
       "layout": "IPY_MODEL_8166bdcfae9f47ea9261ab749964bf63",
       "style": "IPY_MODEL_ee2fa1b6e7444867a9894b73b01df23e"
      }
     },
     "8d9865a430a6457b96957bd4c61eb45b": {
      "model_module": "@jupyter-widgets/base",
      "model_module_version": "1.2.0",
      "model_name": "LayoutModel",
      "state": {}
     },
     "8e7db3b80e9c40359d74fa4830ad2fc4": {
      "model_module": "@jupyter-widgets/base",
      "model_module_version": "1.2.0",
      "model_name": "LayoutModel",
      "state": {}
     },
     "906822664126484283f8e38d44dc7473": {
      "model_module": "@jupyter-widgets/base",
      "model_module_version": "1.2.0",
      "model_name": "LayoutModel",
      "state": {}
     },
     "90c1cec25693428d9d67b6f48c6185b0": {
      "model_module": "@jupyter-widgets/base",
      "model_module_version": "1.2.0",
      "model_name": "LayoutModel",
      "state": {}
     },
     "90e8fc969aa94353b152cf6dad769739": {
      "model_module": "@jupyter-widgets/controls",
      "model_module_version": "1.5.0",
      "model_name": "DescriptionStyleModel",
      "state": {
       "description_width": ""
      }
     },
     "9712304c30784d22a3357ba552544919": {
      "model_module": "@jupyter-widgets/controls",
      "model_module_version": "1.5.0",
      "model_name": "ButtonModel",
      "state": {
       "description": "Get Data",
       "layout": "IPY_MODEL_b46b49c2ab5c4d99ad6615db86d29532",
       "style": "IPY_MODEL_7e487ac1fe3347369d2952620dac436e"
      }
     },
     "979a8de74e9747d88c7dc72f671008a1": {
      "model_module": "@jupyter-widgets/controls",
      "model_module_version": "1.5.0",
      "model_name": "HBoxModel",
      "state": {
       "children": [
        "IPY_MODEL_6c9c8cf5c57642938c3f6e389a9d08aa",
        "IPY_MODEL_55dbd3a4c8074cb0b458ac55304db1d2",
        "IPY_MODEL_439331135f2c492790bbd3d92c0c96ec"
       ],
       "layout": "IPY_MODEL_706ac461e83446989db7f60c68cd23ac"
      }
     },
     "97a71017dda14f6eb3dc0dddbc613465": {
      "model_module": "@jupyter-widgets/base",
      "model_module_version": "1.2.0",
      "model_name": "LayoutModel",
      "state": {}
     },
     "982ccc9bf00c481695a92f00ccc6fdfc": {
      "model_module": "@jupyter-widgets/controls",
      "model_module_version": "1.5.0",
      "model_name": "DescriptionStyleModel",
      "state": {
       "description_width": ""
      }
     },
     "9945e996214c4303a1a10ce06fd60d9d": {
      "model_module": "@jupyter-widgets/base",
      "model_module_version": "1.2.0",
      "model_name": "LayoutModel",
      "state": {}
     },
     "99bd4707ed5c493ba0561eaf90752513": {
      "model_module": "@jupyter-widgets/controls",
      "model_module_version": "1.5.0",
      "model_name": "DatePickerModel",
      "state": {
       "description": "Select Date",
       "disabled": false,
       "layout": "IPY_MODEL_190ecf6c89934a948701ac232b0a6801",
       "style": "IPY_MODEL_a3b4adf199e743d3a8fdaad92afcaf70",
       "value": {
        "date": 5,
        "month": 7,
        "year": 2020
       }
      }
     },
     "9bd2a4a0701d4bbf88b7d2629d7c5c78": {
      "model_module": "@jupyter-widgets/controls",
      "model_module_version": "1.5.0",
      "model_name": "DatePickerModel",
      "state": {
       "description": "Select Date",
       "disabled": false,
       "layout": "IPY_MODEL_b506621f7a3041d9b33d220530330f7c",
       "style": "IPY_MODEL_cbe1f7265c414390a679b966d5695d8b",
       "value": {
        "date": 7,
        "month": 7,
        "year": 2020
       }
      }
     },
     "9d2df6628036494c8a0df6a532ee5b72": {
      "model_module": "@jupyter-widgets/controls",
      "model_module_version": "1.5.0",
      "model_name": "VBoxModel",
      "state": {
       "children": [
        "IPY_MODEL_4452d4f668274dcca1bd7e959e695c44",
        "IPY_MODEL_eb8cfc96f19c4e80b27036fdcfe3207a"
       ],
       "layout": "IPY_MODEL_e1649fa053084660b069380f6d3187bd"
      }
     },
     "9e8a87da3c944437a9ac35324aabac76": {
      "model_module": "@jupyter-widgets/controls",
      "model_module_version": "1.5.0",
      "model_name": "ButtonStyleModel",
      "state": {}
     },
     "9f3947b095bd4e8291d5430980de7f97": {
      "model_module": "@jupyter-widgets/controls",
      "model_module_version": "1.5.0",
      "model_name": "ButtonModel",
      "state": {
       "description": "Get Data",
       "layout": "IPY_MODEL_737d4eeee9394b64b0a1434a0d122a77",
       "style": "IPY_MODEL_a326b00c9e884543bc88c1fd7391a43b"
      }
     },
     "a026b7eeee21450da65838abcc0d3344": {
      "model_module": "@jupyter-widgets/base",
      "model_module_version": "1.2.0",
      "model_name": "LayoutModel",
      "state": {}
     },
     "a21248092c414f999cec58935eb232d3": {
      "model_module": "@jupyter-widgets/base",
      "model_module_version": "1.2.0",
      "model_name": "LayoutModel",
      "state": {}
     },
     "a326b00c9e884543bc88c1fd7391a43b": {
      "model_module": "@jupyter-widgets/controls",
      "model_module_version": "1.5.0",
      "model_name": "ButtonStyleModel",
      "state": {}
     },
     "a3b4adf199e743d3a8fdaad92afcaf70": {
      "model_module": "@jupyter-widgets/controls",
      "model_module_version": "1.5.0",
      "model_name": "DescriptionStyleModel",
      "state": {
       "description_width": ""
      }
     },
     "a48746a23eec49798aca427b6d5ccace": {
      "model_module": "@jupyter-widgets/controls",
      "model_module_version": "1.5.0",
      "model_name": "DatePickerModel",
      "state": {
       "description": "Select Date",
       "disabled": false,
       "layout": "IPY_MODEL_728cb881c15343c9aabbed6eb42b67b4",
       "style": "IPY_MODEL_5a0fb175de264d29ba106ddea84f5ce0",
       "value": {
        "date": 6,
        "month": 7,
        "year": 2020
       }
      }
     },
     "a5157123f1784cb3836db4916a9701a5": {
      "model_module": "@jupyter-widgets/controls",
      "model_module_version": "1.5.0",
      "model_name": "DatePickerModel",
      "state": {
       "description": "Select Date",
       "disabled": false,
       "layout": "IPY_MODEL_65b322b3b81d4e6da17dc44f46c30252",
       "style": "IPY_MODEL_0e603141863644b585e7ad3c21bfd681"
      }
     },
     "a9be02dfa3cf4d25b3891cb1bf7fa647": {
      "model_module": "@jupyter-widgets/controls",
      "model_module_version": "1.5.0",
      "model_name": "DatePickerModel",
      "state": {
       "description": "Select Date",
       "disabled": false,
       "layout": "IPY_MODEL_85da065ff6d34085bc8ba73ed1e77cdd",
       "style": "IPY_MODEL_106953dfb62b4a74baa47fc65bdb9e4d",
       "value": {
        "date": 7,
        "month": 7,
        "year": 2020
       }
      }
     },
     "ab76fc39fbf541e0b9a5fd969a2269f4": {
      "model_module": "@jupyter-widgets/controls",
      "model_module_version": "1.5.0",
      "model_name": "DatePickerModel",
      "state": {
       "description": "Select Date",
       "disabled": false,
       "layout": "IPY_MODEL_9945e996214c4303a1a10ce06fd60d9d",
       "style": "IPY_MODEL_59d24cb6c371413bac2a46f0f33bb145"
      }
     },
     "abe342c9098d4d6ebfebe9f462de08c1": {
      "model_module": "@jupyter-widgets/base",
      "model_module_version": "1.2.0",
      "model_name": "LayoutModel",
      "state": {}
     },
     "ae4e1301a5b24f60bdadbf17504f8377": {
      "model_module": "@jupyter-widgets/controls",
      "model_module_version": "1.5.0",
      "model_name": "DatePickerModel",
      "state": {
       "description": "Select Date",
       "disabled": false,
       "layout": "IPY_MODEL_d5de3b9422e148339291e31b87c047a7",
       "style": "IPY_MODEL_47a29c3877c04aab97937ceffb972e09"
      }
     },
     "b1269f017af5421fb20d04614b500208": {
      "model_module": "@jupyter-widgets/controls",
      "model_module_version": "1.5.0",
      "model_name": "ButtonStyleModel",
      "state": {}
     },
     "b46b49c2ab5c4d99ad6615db86d29532": {
      "model_module": "@jupyter-widgets/base",
      "model_module_version": "1.2.0",
      "model_name": "LayoutModel",
      "state": {}
     },
     "b4805cb986e8416b931807c15fa9e233": {
      "model_module": "@jupyter-widgets/base",
      "model_module_version": "1.2.0",
      "model_name": "LayoutModel",
      "state": {}
     },
     "b49a5d00a16144c3bddb418e70587f1a": {
      "model_module": "@jupyter-widgets/controls",
      "model_module_version": "1.5.0",
      "model_name": "HBoxModel",
      "state": {
       "children": [
        "IPY_MODEL_99bd4707ed5c493ba0561eaf90752513",
        "IPY_MODEL_45c9f1475c134d0ea61ccf33c5064631",
        "IPY_MODEL_5965bee703d24efab6f28da7fa871150"
       ],
       "layout": "IPY_MODEL_c950789bf3b946c28bfe2f44a9585e38"
      }
     },
     "b506621f7a3041d9b33d220530330f7c": {
      "model_module": "@jupyter-widgets/base",
      "model_module_version": "1.2.0",
      "model_name": "LayoutModel",
      "state": {}
     },
     "b7932c142627489e8df6fcc5cbad25dc": {
      "model_module": "@jupyter-widgets/controls",
      "model_module_version": "1.5.0",
      "model_name": "ButtonModel",
      "state": {
       "description": "Get Data",
       "layout": "IPY_MODEL_d1b8004d04c24198b304d0934db059d6",
       "style": "IPY_MODEL_064086b963cf4076b3830c8c15935a3b"
      }
     },
     "be7b01f56de84e5a8d9c63e1e6faebc2": {
      "model_module": "@jupyter-widgets/controls",
      "model_module_version": "1.5.0",
      "model_name": "DescriptionStyleModel",
      "state": {
       "description_width": ""
      }
     },
     "c1d05b066d404a12b563547470b6a753": {
      "model_module": "@jupyter-widgets/base",
      "model_module_version": "1.2.0",
      "model_name": "LayoutModel",
      "state": {}
     },
     "c259acea134543cd9df2b5b11704e29b": {
      "model_module": "@jupyter-widgets/controls",
      "model_module_version": "1.5.0",
      "model_name": "ButtonStyleModel",
      "state": {}
     },
     "c2abf955b9f641a9ada6550b9a2347a7": {
      "model_module": "@jupyter-widgets/base",
      "model_module_version": "1.2.0",
      "model_name": "LayoutModel",
      "state": {}
     },
     "c3cc7d4386fc4e7cb863ba9d96951d60": {
      "model_module": "@jupyter-widgets/base",
      "model_module_version": "1.2.0",
      "model_name": "LayoutModel",
      "state": {}
     },
     "c5a7319be67541dfa62eee5992e3046b": {
      "model_module": "@jupyter-widgets/controls",
      "model_module_version": "1.5.0",
      "model_name": "HBoxModel",
      "state": {
       "children": [
        "IPY_MODEL_2a6074128364471c8d7bd52f17bbfb2d",
        "IPY_MODEL_9712304c30784d22a3357ba552544919"
       ],
       "layout": "IPY_MODEL_04bafa842edb4142ac374bae7f7bf1bc"
      }
     },
     "c74ffbe94fea4f459cca73078db3132e": {
      "model_module": "@jupyter-widgets/controls",
      "model_module_version": "1.5.0",
      "model_name": "DescriptionStyleModel",
      "state": {
       "description_width": ""
      }
     },
     "c82c48901c934e2c9c3e9ad8a6cb227e": {
      "model_module": "@jupyter-widgets/base",
      "model_module_version": "1.2.0",
      "model_name": "LayoutModel",
      "state": {}
     },
     "c8897c0db29f4ca898d9007f16e863dd": {
      "model_module": "@jupyter-widgets/base",
      "model_module_version": "1.2.0",
      "model_name": "LayoutModel",
      "state": {}
     },
     "c950789bf3b946c28bfe2f44a9585e38": {
      "model_module": "@jupyter-widgets/base",
      "model_module_version": "1.2.0",
      "model_name": "LayoutModel",
      "state": {}
     },
     "c9e95a89278242769f53d757d67f0232": {
      "model_module": "@jupyter-widgets/base",
      "model_module_version": "1.2.0",
      "model_name": "LayoutModel",
      "state": {}
     },
     "ca7447db7946407a8b797491c487476a": {
      "model_module": "@jupyter-widgets/controls",
      "model_module_version": "1.5.0",
      "model_name": "ButtonModel",
      "state": {
       "description": "Get Data",
       "layout": "IPY_MODEL_2d21d61dbda84d44b85efd835a29530b",
       "style": "IPY_MODEL_17e58f89eeee40ec8ae7b1b591420d51"
      }
     },
     "cbe1f7265c414390a679b966d5695d8b": {
      "model_module": "@jupyter-widgets/controls",
      "model_module_version": "1.5.0",
      "model_name": "DescriptionStyleModel",
      "state": {
       "description_width": ""
      }
     },
     "cc298d1e50cf45c88630c56fcc14ee63": {
      "model_module": "@jupyter-widgets/output",
      "model_module_version": "1.0.0",
      "model_name": "OutputModel",
      "state": {
       "layout": "IPY_MODEL_10abec925e234f16a30ec392e5c4c3ce",
       "outputs": [
        {
         "data": {
          "text/html": "<div>\n<style scoped>\n    .dataframe tbody tr th:only-of-type {\n        vertical-align: middle;\n    }\n\n    .dataframe tbody tr th {\n        vertical-align: top;\n    }\n\n    .dataframe thead th {\n        text-align: right;\n    }\n</style>\n<table border=\"1\" class=\"dataframe\">\n  <thead>\n    <tr style=\"text-align: right;\">\n      <th></th>\n      <th>hour</th>\n      <th>date</th>\n      <th>boat_length</th>\n      <th>dockage</th>\n      <th>availability</th>\n    </tr>\n    <tr>\n      <th>provider</th>\n      <th></th>\n      <th></th>\n      <th></th>\n      <th></th>\n      <th></th>\n    </tr>\n  </thead>\n  <tbody>\n    <tr>\n      <th>City Winery on the Chicago Riverwalk</th>\n      <td>5:00 PM</td>\n      <td>2020-08-06</td>\n      <td>117</td>\n      <td>210</td>\n      <td>93</td>\n    </tr>\n    <tr>\n      <th>City Winery on the Chicago Riverwalk</th>\n      <td>6:00 PM</td>\n      <td>2020-08-06</td>\n      <td>117</td>\n      <td>210</td>\n      <td>93</td>\n    </tr>\n    <tr>\n      <th>City Winery on the Chicago Riverwalk</th>\n      <td>7:00 PM</td>\n      <td>2020-08-06</td>\n      <td>66</td>\n      <td>210</td>\n      <td>144</td>\n    </tr>\n    <tr>\n      <th>City Winery on the Chicago Riverwalk</th>\n      <td>8:00 PM</td>\n      <td>2020-08-06</td>\n      <td>65</td>\n      <td>210</td>\n      <td>145</td>\n    </tr>\n    <tr>\n      <th>City Winery on the Chicago Riverwalk</th>\n      <td>9:00 PM</td>\n      <td>2020-08-06</td>\n      <td>34</td>\n      <td>210</td>\n      <td>176</td>\n    </tr>\n    <tr>\n      <th>City Winery on the Chicago Riverwalk</th>\n      <td>10:00 PM</td>\n      <td>2020-08-06</td>\n      <td>34</td>\n      <td>210</td>\n      <td>176</td>\n    </tr>\n    <tr>\n      <th>Pizzeria Portofino</th>\n      <td>7:00 PM</td>\n      <td>2020-08-06</td>\n      <td>18</td>\n      <td>120</td>\n      <td>102</td>\n    </tr>\n    <tr>\n      <th>Pizzeria Portofino</th>\n      <td>8:00 PM</td>\n      <td>2020-08-06</td>\n      <td>18</td>\n      <td>120</td>\n      <td>102</td>\n    </tr>\n  </tbody>\n</table>\n</div>",
          "text/plain": "                                          hour        date  boat_length  \\\nprovider                                                                  \nCity Winery on the Chicago Riverwalk   5:00 PM  2020-08-06          117   \nCity Winery on the Chicago Riverwalk   6:00 PM  2020-08-06          117   \nCity Winery on the Chicago Riverwalk   7:00 PM  2020-08-06           66   \nCity Winery on the Chicago Riverwalk   8:00 PM  2020-08-06           65   \nCity Winery on the Chicago Riverwalk   9:00 PM  2020-08-06           34   \nCity Winery on the Chicago Riverwalk  10:00 PM  2020-08-06           34   \nPizzeria Portofino                     7:00 PM  2020-08-06           18   \nPizzeria Portofino                     8:00 PM  2020-08-06           18   \n\n                                      dockage  availability  \nprovider                                                     \nCity Winery on the Chicago Riverwalk      210            93  \nCity Winery on the Chicago Riverwalk      210            93  \nCity Winery on the Chicago Riverwalk      210           144  \nCity Winery on the Chicago Riverwalk      210           145  \nCity Winery on the Chicago Riverwalk      210           176  \nCity Winery on the Chicago Riverwalk      210           176  \nPizzeria Portofino                        120           102  \nPizzeria Portofino                        120           102  "
         },
         "metadata": {},
         "output_type": "display_data"
        }
       ]
      }
     },
     "ccea35acaf374fb1ba3a8786d8e74741": {
      "model_module": "@jupyter-widgets/controls",
      "model_module_version": "1.5.0",
      "model_name": "ButtonStyleModel",
      "state": {}
     },
     "ce364a38557b4704af5ace3c06f2f1e5": {
      "model_module": "@jupyter-widgets/base",
      "model_module_version": "1.2.0",
      "model_name": "LayoutModel",
      "state": {}
     },
     "d0db8801f3874bd2a44a92669234f462": {
      "model_module": "@jupyter-widgets/output",
      "model_module_version": "1.0.0",
      "model_name": "OutputModel",
      "state": {
       "layout": "IPY_MODEL_30c95275a89e41f89c5b941a720c7929"
      }
     },
     "d1b8004d04c24198b304d0934db059d6": {
      "model_module": "@jupyter-widgets/base",
      "model_module_version": "1.2.0",
      "model_name": "LayoutModel",
      "state": {}
     },
     "d266efacc6e64a9d91b64f26b5f61ee0": {
      "model_module": "@jupyter-widgets/base",
      "model_module_version": "1.2.0",
      "model_name": "LayoutModel",
      "state": {}
     },
     "d48dd9afcc3a48cfb50c9ae2008ef3c3": {
      "model_module": "@jupyter-widgets/base",
      "model_module_version": "1.2.0",
      "model_name": "LayoutModel",
      "state": {}
     },
     "d4d01ae542f44df3b8db1111c57be9a3": {
      "model_module": "@jupyter-widgets/base",
      "model_module_version": "1.2.0",
      "model_name": "LayoutModel",
      "state": {}
     },
     "d5de3b9422e148339291e31b87c047a7": {
      "model_module": "@jupyter-widgets/base",
      "model_module_version": "1.2.0",
      "model_name": "LayoutModel",
      "state": {}
     },
     "d74fe5ad83084ec383a815b225a987ba": {
      "model_module": "@jupyter-widgets/controls",
      "model_module_version": "1.5.0",
      "model_name": "DatePickerModel",
      "state": {
       "description": "Select Date",
       "disabled": false,
       "layout": "IPY_MODEL_5f7b3c7026af4a4e844560f69970fd6b",
       "style": "IPY_MODEL_982ccc9bf00c481695a92f00ccc6fdfc",
       "value": {
        "date": 5,
        "month": 7,
        "year": 2020
       }
      }
     },
     "d995f6fec2cc4fe0941d620a1a674fe1": {
      "model_module": "@jupyter-widgets/controls",
      "model_module_version": "1.5.0",
      "model_name": "ButtonStyleModel",
      "state": {}
     },
     "d9cf68f7200848f7bab379e9e57217f3": {
      "model_module": "@jupyter-widgets/controls",
      "model_module_version": "1.5.0",
      "model_name": "ButtonModel",
      "state": {
       "description": "Get Data",
       "layout": "IPY_MODEL_72ab49eeade74da0bd34dcab27fac119",
       "style": "IPY_MODEL_705e2a3f232b47efac9cb2fdab863bc9"
      }
     },
     "da22ad769ad34c54bc129ccb0e809bbb": {
      "model_module": "@jupyter-widgets/base",
      "model_module_version": "1.2.0",
      "model_name": "LayoutModel",
      "state": {}
     },
     "daf2b6b930cb481faa3f6b896360613d": {
      "model_module": "@jupyter-widgets/controls",
      "model_module_version": "1.5.0",
      "model_name": "ButtonStyleModel",
      "state": {}
     },
     "db19770d4f544fed87ca0ed3f82c025d": {
      "model_module": "@jupyter-widgets/base",
      "model_module_version": "1.2.0",
      "model_name": "LayoutModel",
      "state": {}
     },
     "dc8032e97d174a5a86107bf9d1a659ff": {
      "model_module": "@jupyter-widgets/base",
      "model_module_version": "1.2.0",
      "model_name": "LayoutModel",
      "state": {}
     },
     "dea1c955bbe249f9b721746eaab9d955": {
      "model_module": "@jupyter-widgets/controls",
      "model_module_version": "1.5.0",
      "model_name": "DatePickerModel",
      "state": {
       "description": "Select Date",
       "disabled": false,
       "layout": "IPY_MODEL_ec1ceb49718a44aebaa79d044b1a97bb",
       "style": "IPY_MODEL_57d055ff68794a12ba9654ab663e1b05"
      }
     },
     "df5058d5a40845578d620ff7bc12ae81": {
      "model_module": "@jupyter-widgets/controls",
      "model_module_version": "1.5.0",
      "model_name": "ButtonModel",
      "state": {
       "description": "Get Data",
       "layout": "IPY_MODEL_c1d05b066d404a12b563547470b6a753",
       "style": "IPY_MODEL_2697d2d5de6848dcb693c10f36fcb5d8"
      }
     },
     "dfc9f612c13c4a81986e6c3b7231d8f9": {
      "model_module": "@jupyter-widgets/base",
      "model_module_version": "1.2.0",
      "model_name": "LayoutModel",
      "state": {}
     },
     "e08983d7beb34d15ba3bfd21236e862a": {
      "model_module": "@jupyter-widgets/base",
      "model_module_version": "1.2.0",
      "model_name": "LayoutModel",
      "state": {}
     },
     "e1649fa053084660b069380f6d3187bd": {
      "model_module": "@jupyter-widgets/base",
      "model_module_version": "1.2.0",
      "model_name": "LayoutModel",
      "state": {}
     },
     "e327d289af7d4f96bca366e9f611d9df": {
      "model_module": "@jupyter-widgets/base",
      "model_module_version": "1.2.0",
      "model_name": "LayoutModel",
      "state": {}
     },
     "e341d9f140fc4b69b5ab3df817b3821c": {
      "model_module": "@jupyter-widgets/base",
      "model_module_version": "1.2.0",
      "model_name": "LayoutModel",
      "state": {}
     },
     "e56d7512846d439e8d169222ef056366": {
      "model_module": "@jupyter-widgets/output",
      "model_module_version": "1.0.0",
      "model_name": "OutputModel",
      "state": {
       "layout": "IPY_MODEL_e341d9f140fc4b69b5ab3df817b3821c"
      }
     },
     "e6fcfb14cba1456480d2023820656c7d": {
      "model_module": "@jupyter-widgets/base",
      "model_module_version": "1.2.0",
      "model_name": "LayoutModel",
      "state": {}
     },
     "eb8cfc96f19c4e80b27036fdcfe3207a": {
      "model_module": "@jupyter-widgets/output",
      "model_module_version": "1.0.0",
      "model_name": "OutputModel",
      "state": {
       "layout": "IPY_MODEL_97a71017dda14f6eb3dc0dddbc613465",
       "outputs": [
        {
         "data": {
          "text/html": "<div>\n<style scoped>\n    .dataframe tbody tr th:only-of-type {\n        vertical-align: middle;\n    }\n\n    .dataframe tbody tr th {\n        vertical-align: top;\n    }\n\n    .dataframe thead th {\n        text-align: right;\n    }\n</style>\n<table border=\"1\" class=\"dataframe\">\n  <thead>\n    <tr style=\"text-align: right;\">\n      <th></th>\n      <th>hour</th>\n      <th>date</th>\n      <th>boat_length</th>\n      <th>dockage</th>\n      <th>availability</th>\n    </tr>\n    <tr>\n      <th>provider</th>\n      <th></th>\n      <th></th>\n      <th></th>\n      <th></th>\n      <th></th>\n    </tr>\n  </thead>\n  <tbody>\n    <tr>\n      <th>City Winery on the Chicago Riverwalk</th>\n      <td>7:00 PM</td>\n      <td>2020-08-07</td>\n      <td>55</td>\n      <td>210</td>\n      <td>155</td>\n    </tr>\n    <tr>\n      <th>Pizzeria Portofino</th>\n      <td>1:00 PM</td>\n      <td>2020-08-07</td>\n      <td>31</td>\n      <td>120</td>\n      <td>89</td>\n    </tr>\n    <tr>\n      <th>Pizzeria Portofino</th>\n      <td>2:00 PM</td>\n      <td>2020-08-07</td>\n      <td>31</td>\n      <td>120</td>\n      <td>89</td>\n    </tr>\n    <tr>\n      <th>Pizzeria Portofino</th>\n      <td>3:00 PM</td>\n      <td>2020-08-07</td>\n      <td>35</td>\n      <td>120</td>\n      <td>85</td>\n    </tr>\n    <tr>\n      <th>Pizzeria Portofino</th>\n      <td>4:00 PM</td>\n      <td>2020-08-07</td>\n      <td>35</td>\n      <td>120</td>\n      <td>85</td>\n    </tr>\n    <tr>\n      <th>Pizzeria Portofino</th>\n      <td>5:00 PM</td>\n      <td>2020-08-07</td>\n      <td>80</td>\n      <td>120</td>\n      <td>40</td>\n    </tr>\n    <tr>\n      <th>Pizzeria Portofino</th>\n      <td>6:00 PM</td>\n      <td>2020-08-07</td>\n      <td>111</td>\n      <td>120</td>\n      <td>9</td>\n    </tr>\n    <tr>\n      <th>Pizzeria Portofino</th>\n      <td>7:00 PM</td>\n      <td>2020-08-07</td>\n      <td>25</td>\n      <td>120</td>\n      <td>95</td>\n    </tr>\n    <tr>\n      <th>Pizzeria Portofino</th>\n      <td>8:00 PM</td>\n      <td>2020-08-07</td>\n      <td>110</td>\n      <td>120</td>\n      <td>10</td>\n    </tr>\n  </tbody>\n</table>\n</div>",
          "text/plain": "                                         hour        date  boat_length  \\\nprovider                                                                 \nCity Winery on the Chicago Riverwalk  7:00 PM  2020-08-07           55   \nPizzeria Portofino                    1:00 PM  2020-08-07           31   \nPizzeria Portofino                    2:00 PM  2020-08-07           31   \nPizzeria Portofino                    3:00 PM  2020-08-07           35   \nPizzeria Portofino                    4:00 PM  2020-08-07           35   \nPizzeria Portofino                    5:00 PM  2020-08-07           80   \nPizzeria Portofino                    6:00 PM  2020-08-07          111   \nPizzeria Portofino                    7:00 PM  2020-08-07           25   \nPizzeria Portofino                    8:00 PM  2020-08-07          110   \n\n                                      dockage  availability  \nprovider                                                     \nCity Winery on the Chicago Riverwalk      210           155  \nPizzeria Portofino                        120            89  \nPizzeria Portofino                        120            89  \nPizzeria Portofino                        120            85  \nPizzeria Portofino                        120            85  \nPizzeria Portofino                        120            40  \nPizzeria Portofino                        120             9  \nPizzeria Portofino                        120            95  \nPizzeria Portofino                        120            10  "
         },
         "metadata": {},
         "output_type": "display_data"
        }
       ]
      }
     },
     "ebc280a9c1da41a9acac9a9d16a2623f": {
      "model_module": "@jupyter-widgets/base",
      "model_module_version": "1.2.0",
      "model_name": "LayoutModel",
      "state": {}
     },
     "ec1ceb49718a44aebaa79d044b1a97bb": {
      "model_module": "@jupyter-widgets/base",
      "model_module_version": "1.2.0",
      "model_name": "LayoutModel",
      "state": {}
     },
     "eda380fde5e3490da85eeec030babb10": {
      "model_module": "@jupyter-widgets/controls",
      "model_module_version": "1.5.0",
      "model_name": "DescriptionStyleModel",
      "state": {
       "description_width": ""
      }
     },
     "ee2fa1b6e7444867a9894b73b01df23e": {
      "model_module": "@jupyter-widgets/controls",
      "model_module_version": "1.5.0",
      "model_name": "ButtonStyleModel",
      "state": {}
     },
     "ee83b3f799594032b26e2db2951bac36": {
      "model_module": "@jupyter-widgets/controls",
      "model_module_version": "1.5.0",
      "model_name": "ButtonModel",
      "state": {
       "description": "Get Data",
       "layout": "IPY_MODEL_c8897c0db29f4ca898d9007f16e863dd",
       "style": "IPY_MODEL_9e8a87da3c944437a9ac35324aabac76"
      }
     },
     "f04639ab23ef4fcc8aa60bf20e351874": {
      "model_module": "@jupyter-widgets/controls",
      "model_module_version": "1.5.0",
      "model_name": "HBoxModel",
      "state": {
       "children": [
        "IPY_MODEL_a9be02dfa3cf4d25b3891cb1bf7fa647",
        "IPY_MODEL_d9cf68f7200848f7bab379e9e57217f3",
        "IPY_MODEL_74108a48c802400798ff40d4e4c936f5"
       ],
       "layout": "IPY_MODEL_e6fcfb14cba1456480d2023820656c7d"
      }
     },
     "f224a65abef7454b9bc87d097cd1aa29": {
      "model_module": "@jupyter-widgets/base",
      "model_module_version": "1.2.0",
      "model_name": "LayoutModel",
      "state": {}
     },
     "f4929420718847b7ae6e7e46c790456b": {
      "model_module": "@jupyter-widgets/controls",
      "model_module_version": "1.5.0",
      "model_name": "HBoxModel",
      "state": {
       "children": [
        "IPY_MODEL_a48746a23eec49798aca427b6d5ccace",
        "IPY_MODEL_1ba70b95b1a54f678715239aa4b12cd7"
       ],
       "layout": "IPY_MODEL_4c309a2969df430e94070f1a702494d1"
      }
     },
     "f4e984c1bd6941b79ca53380a74dc0fb": {
      "model_module": "@jupyter-widgets/output",
      "model_module_version": "1.0.0",
      "model_name": "OutputModel",
      "state": {
       "layout": "IPY_MODEL_0de9d4c7e87e4ca9adba0689c72bbf55",
       "outputs": [
        {
         "data": {
          "text/html": "<div>\n<style scoped>\n    .dataframe tbody tr th:only-of-type {\n        vertical-align: middle;\n    }\n\n    .dataframe tbody tr th {\n        vertical-align: top;\n    }\n\n    .dataframe thead th {\n        text-align: right;\n    }\n</style>\n<table border=\"1\" class=\"dataframe\">\n  <thead>\n    <tr style=\"text-align: right;\">\n      <th></th>\n      <th></th>\n      <th>date</th>\n      <th>boat_length</th>\n      <th>dockage</th>\n      <th>availability</th>\n    </tr>\n    <tr>\n      <th>provider</th>\n      <th>hour</th>\n      <th></th>\n      <th></th>\n      <th></th>\n      <th></th>\n    </tr>\n  </thead>\n  <tbody>\n    <tr>\n      <th rowspan=\"3\" valign=\"top\">City Winery on the Chicago Riverwalk</th>\n      <th>17:00 PM</th>\n      <td>2020-08-05</td>\n      <td>119</td>\n      <td>210</td>\n      <td>91</td>\n    </tr>\n    <tr>\n      <th>18:00 PM</th>\n      <td>2020-08-05</td>\n      <td>148</td>\n      <td>210</td>\n      <td>62</td>\n    </tr>\n    <tr>\n      <th>19:00 PM</th>\n      <td>2020-08-05</td>\n      <td>34</td>\n      <td>210</td>\n      <td>176</td>\n    </tr>\n    <tr>\n      <th rowspan=\"2\" valign=\"top\">Pizzeria Portofino</th>\n      <th>19:00 PM</th>\n      <td>2020-08-05</td>\n      <td>89</td>\n      <td>120</td>\n      <td>31</td>\n    </tr>\n    <tr>\n      <th>20:00 PM</th>\n      <td>2020-08-05</td>\n      <td>89</td>\n      <td>120</td>\n      <td>31</td>\n    </tr>\n  </tbody>\n</table>\n</div>",
          "text/plain": "                                                     date  boat_length  \\\nprovider                             hour                                \nCity Winery on the Chicago Riverwalk 17:00 PM  2020-08-05          119   \n                                     18:00 PM  2020-08-05          148   \n                                     19:00 PM  2020-08-05           34   \nPizzeria Portofino                   19:00 PM  2020-08-05           89   \n                                     20:00 PM  2020-08-05           89   \n\n                                               dockage  availability  \nprovider                             hour                             \nCity Winery on the Chicago Riverwalk 17:00 PM      210            91  \n                                     18:00 PM      210            62  \n                                     19:00 PM      210           176  \nPizzeria Portofino                   19:00 PM      120            31  \n                                     20:00 PM      120            31  "
         },
         "metadata": {},
         "output_type": "display_data"
        }
       ]
      }
     },
     "f519484a23d64bd4a32c61021ff94b96": {
      "model_module": "@jupyter-widgets/output",
      "model_module_version": "1.0.0",
      "model_name": "OutputModel",
      "state": {
       "layout": "IPY_MODEL_140a86f42d00458b963aac95845489a8",
       "outputs": [
        {
         "data": {
          "text/html": "<div>\n<style scoped>\n    .dataframe tbody tr th:only-of-type {\n        vertical-align: middle;\n    }\n\n    .dataframe tbody tr th {\n        vertical-align: top;\n    }\n\n    .dataframe thead th {\n        text-align: right;\n    }\n</style>\n<table border=\"1\" class=\"dataframe\">\n  <thead>\n    <tr style=\"text-align: right;\">\n      <th></th>\n      <th>date</th>\n      <th>boat_length</th>\n      <th>dockage</th>\n      <th>availability</th>\n    </tr>\n    <tr>\n      <th>provider</th>\n      <th></th>\n      <th></th>\n      <th></th>\n      <th></th>\n    </tr>\n  </thead>\n  <tbody>\n    <tr>\n      <th>City Winery on the Chicago Riverwalk</th>\n      <td>2020-08-05</td>\n      <td>119</td>\n      <td>210</td>\n      <td>91</td>\n    </tr>\n    <tr>\n      <th>City Winery on the Chicago Riverwalk</th>\n      <td>2020-08-05</td>\n      <td>148</td>\n      <td>210</td>\n      <td>62</td>\n    </tr>\n    <tr>\n      <th>City Winery on the Chicago Riverwalk</th>\n      <td>2020-08-05</td>\n      <td>34</td>\n      <td>210</td>\n      <td>176</td>\n    </tr>\n    <tr>\n      <th>Pizzeria Portofino</th>\n      <td>2020-08-05</td>\n      <td>89</td>\n      <td>120</td>\n      <td>31</td>\n    </tr>\n    <tr>\n      <th>Pizzeria Portofino</th>\n      <td>2020-08-05</td>\n      <td>89</td>\n      <td>120</td>\n      <td>31</td>\n    </tr>\n  </tbody>\n</table>\n</div>",
          "text/plain": "                                            date  boat_length  dockage  \\\nprovider                                                                 \nCity Winery on the Chicago Riverwalk  2020-08-05          119      210   \nCity Winery on the Chicago Riverwalk  2020-08-05          148      210   \nCity Winery on the Chicago Riverwalk  2020-08-05           34      210   \nPizzeria Portofino                    2020-08-05           89      120   \nPizzeria Portofino                    2020-08-05           89      120   \n\n                                      availability  \nprovider                                            \nCity Winery on the Chicago Riverwalk            91  \nCity Winery on the Chicago Riverwalk            62  \nCity Winery on the Chicago Riverwalk           176  \nPizzeria Portofino                              31  \nPizzeria Portofino                              31  "
         },
         "metadata": {},
         "output_type": "display_data"
        }
       ]
      }
     },
     "f6c1a0a59e934c678f092e55380c72fb": {
      "model_module": "@jupyter-widgets/controls",
      "model_module_version": "1.5.0",
      "model_name": "DatePickerModel",
      "state": {
       "description": "Select Date",
       "disabled": false,
       "layout": "IPY_MODEL_1437656665cd44a3ade9a5a0f4873742",
       "style": "IPY_MODEL_80b37631f55648bfaf0679a08da88f78"
      }
     },
     "f6cc41f577124e56ba103305cb6d206f": {
      "model_module": "@jupyter-widgets/base",
      "model_module_version": "1.2.0",
      "model_name": "LayoutModel",
      "state": {}
     },
     "f6f41f96a68043f6859d950820b6343b": {
      "model_module": "@jupyter-widgets/controls",
      "model_module_version": "1.5.0",
      "model_name": "DatePickerModel",
      "state": {
       "description": "Select Date",
       "disabled": false,
       "layout": "IPY_MODEL_abe342c9098d4d6ebfebe9f462de08c1",
       "style": "IPY_MODEL_59d5640b9bde497c94b71a6ad5f2a7b1",
       "value": {
        "date": 7,
        "month": 7,
        "year": 2020
       }
      }
     },
     "f7bf6e27c62946cd84ba9a5755a02c77": {
      "model_module": "@jupyter-widgets/controls",
      "model_module_version": "1.5.0",
      "model_name": "ButtonModel",
      "state": {
       "description": "Get Data",
       "layout": "IPY_MODEL_7dddb1259fb64e5c9c4c8a0cf87b1198",
       "style": "IPY_MODEL_88d80a7cf0684d1c9b9f4d60626bf0bb"
      }
     },
     "f8d86b237ceb404aa41305890efe1d15": {
      "model_module": "@jupyter-widgets/controls",
      "model_module_version": "1.5.0",
      "model_name": "DatePickerModel",
      "state": {
       "description": "Select Date",
       "disabled": false,
       "layout": "IPY_MODEL_c82c48901c934e2c9c3e9ad8a6cb227e",
       "style": "IPY_MODEL_3d2e49850a5145d4b59675d330712351"
      }
     },
     "f9a51df0e7be40bbba7b35abc28d6807": {
      "model_module": "@jupyter-widgets/output",
      "model_module_version": "1.0.0",
      "model_name": "OutputModel",
      "state": {
       "layout": "IPY_MODEL_2f2488d64b54419c86e24ee08528fd58"
      }
     },
     "fa9d8c6c92f74508837ccc15867a0537": {
      "model_module": "@jupyter-widgets/output",
      "model_module_version": "1.0.0",
      "model_name": "OutputModel",
      "state": {
       "layout": "IPY_MODEL_0dd09f342c7d4c209e45d69c75b3c1b4"
      }
     }
    },
    "version_major": 2,
    "version_minor": 0
   }
  }
 },
 "nbformat": 4,
 "nbformat_minor": 4
}
